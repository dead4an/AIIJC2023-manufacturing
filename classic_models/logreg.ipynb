{
 "cells": [
  {
   "cell_type": "markdown",
   "metadata": {},
   "source": [
    "# Модель предсказания срывов поставок на основе Logistic Regression"
   ]
  },
  {
   "cell_type": "markdown",
   "metadata": {},
   "source": [
    "## Библиотеки и модули"
   ]
  },
  {
   "cell_type": "markdown",
   "metadata": {},
   "source": [
    "Загрузка библиотек и модулей, используемых при решении. \n",
    "- Модель: **LogisticRegression** из библиотеки **scikit-learn**\n",
    "- Предобработчик данных для модели: **DataPreprocessor** (из модуля helper.data)\n",
    "- Борьба с дисбалансом классов: **RandomOverSampler** (библиотека imbalanced-learn)\n",
    "- Разделение на тренировочную и тестовую выборки, кросс-валидация, оценка решения: \n",
    "    - библиотека **scikit-learn**\n",
    "    - **valid_predictions** (из модуля helper.validation)\n",
    "- Работа с датасетом: библиотека **pandas** \n",
    "- Работа с файловой системой: модуль **os**"
   ]
  },
  {
   "cell_type": "code",
   "execution_count": 1,
   "metadata": {},
   "outputs": [],
   "source": [
    "# Модель\n",
    "import lightgbm \n",
    "from sklearn.linear_model import LogisticRegression\n",
    "from sklearn.model_selection import cross_val_score, train_test_split, StratifiedKFold\n",
    "\n",
    "# Пайплайн\n",
    "from sklearn.pipeline import Pipeline\n",
    "from helpers.data import DataPreprocessor\n",
    "from helpers.validation import valid_predictions\n",
    "\n",
    "# Данные\n",
    "import os\n",
    "import pandas as pd\n",
    "from imblearn.over_sampling import RandomOverSampler\n",
    "\n",
    "# Настройки вывода\n",
    "import matplotlib.pyplot as plt\n",
    "import warnings\n",
    "warnings.filterwarnings('ignore')\n",
    "%matplotlib inline"
   ]
  },
  {
   "cell_type": "markdown",
   "metadata": {},
   "source": [
    "## Загрузка датасетов"
   ]
  },
  {
   "cell_type": "code",
   "execution_count": 2,
   "metadata": {},
   "outputs": [],
   "source": [
    "# Пути\n",
    "ROOT = os.getcwd()\n",
    "TRAIN_DATASET = os.path.join(ROOT, '../data/train_AIC.csv')\n",
    "BALANCED_DATASET = os.path.join(ROOT, '../data/balanced_train.csv')\n",
    "TEST_DATASET = os.path.join(ROOT, '../data/test_AIC.csv')\n",
    "SUBMISSION_PATH = os.path.join(ROOT, '../submissions/')\n",
    "\n",
    "# Функции\n",
    "def make_predictions(model: object | Pipeline, X_test: pd.DataFrame) -> None:\n",
    "    \"\"\" Функция создания предсказаний для тестовой выборки.\n",
    "    \n",
    "    Обучает переданную модель на сбалансированном датасете, учитывая выбросы.\n",
    "    Предсказания сохраняются с помощью функции save_submission.\n",
    "    \n",
    "    Параметры:\n",
    "        model: Модель или пайплайн, используемый для обучения и предсказания меток\n",
    "            тестовой выборки.\n",
    "        X_test: Тестовая выборка, для которой будут сделаны предсказания.\n",
    "            Экземпляр pandas.DataFrame.\"\"\"\n",
    "    \n",
    "    # Загрузка сбалансированного датасета\n",
    "    balanced_df = pd.read_csv(BALANCED_DATASET, index_col=0)\n",
    "    \n",
    "    # Обрезка негативных записей до числа позитивных\n",
    "    first_negatives = balanced_df[balanced_df['y'] == 0][:balanced_df[balanced_df['y'] == 1]['y'].count()]\n",
    "    balanced_df = pd.concat([balanced_df[balanced_df['y'] == 1], first_negatives])\n",
    "\n",
    "    # Удаление выбросов\n",
    "    balanced_df = balanced_df[balanced_df['Длительность'] < 400]\n",
    "    balanced_df = balanced_df[(balanced_df['Сумма'] > 2) & (balanced_df['Сумма'] < 10)]\n",
    "    balanced_df = balanced_df[balanced_df['До поставки'] < 300]\n",
    "    balanced_df = balanced_df[balanced_df['Дней между 0_1'] < 400]\n",
    "    balanced_df = balanced_df[balanced_df['Количество изменений после согласований'] < 2000]\n",
    "    balanced_df = balanced_df[balanced_df['Количество'] < 300000]\n",
    "    \n",
    "    # Разделение независимых и независимых переменных\n",
    "    X, y = balanced_df.iloc[:, :-1], balanced_df.iloc[:, -1]   \n",
    "\n",
    "    # Обучение модели и создание предсказаний для тестовой выборки\n",
    "    model.fit(X, y)\n",
    "    preds = model.predict(X_test)\n",
    "\n",
    "    # Сохранение предсказаний\n",
    "    save_submission(preds, 'submission')\n",
    "    \n",
    "def save_submission(preds: list | pd.DataFrame | pd.arrays.PandasArray, subname: str) -> None:\n",
    "    subname = os.path.join(SUBMISSION_PATH, f'{subname}.csv')\n",
    "    submit_df = pd.DataFrame({'id': test_df.index, 'value': preds})\n",
    "    submit_df.to_csv(subname, index=False)\n",
    "\n",
    "\n",
    "# Загрузка датасетов\n",
    "train_df = pd.read_csv(TRAIN_DATASET)\n",
    "test_df = pd.read_csv(TEST_DATASET)\n",
    "\n",
    "# Удаление дубликатов из тренировочной выборки\n",
    "train_df = train_df.drop_duplicates()\n",
    "\n",
    "# Разделение выборки на тренировочную и тестовую\n",
    "X, y = train_df.iloc[:, :-1], train_df.iloc[:, -1]   \n",
    "X_train, X_test, y_train, y_test = train_test_split(X, y, test_size=0.1, random_state=42)\n",
    "\n",
    "# Удаление выбросов из тренировочной выборки\n",
    "X_train = pd.concat([X_train, y_train], axis=1) # Объединяем X_train и y_train\n",
    "X_train = X_train[X_train['Длительность'] < 400]\n",
    "X_train = X_train[(X_train['Сумма'] > 2) & (X_train['Сумма'] < 10)]\n",
    "X_train = X_train[X_train['До поставки'] < 300]\n",
    "X_train = X_train[X_train['Дней между 0_1'] < 400]\n",
    "X_train = X_train[X_train['Количество изменений после согласований'] < 2000]\n",
    "X_train = X_train[X_train['Количество'] < 300000]\n",
    "\n",
    "# Отделяем метки классов от признаков\n",
    "y_train = X_train['y']\n",
    "X_train = X_train.drop('y', axis=1)\n",
    "\n",
    "# Общий датасет для большего числа записей, используемых на кросс-валидации\n",
    "X_general, y_general = train_df.iloc[:, :-1], train_df.iloc[:, -1]"
   ]
  },
  {
   "cell_type": "markdown",
   "metadata": {},
   "source": [
    "## Тестирование модели"
   ]
  },
  {
   "cell_type": "markdown",
   "metadata": {},
   "source": [
    "### Создание пайплайна"
   ]
  },
  {
   "cell_type": "markdown",
   "metadata": {},
   "source": [
    "- Кросс-валидация: используется X_general и y_general, не содержащие дубликатов.\n",
    "- Валидация на тестовой выборке (X_test, y_test): используется X_res и y_res, полученные с помощью рандомного оверсемплирования X_train и y_train.\n",
    "- Модель: LGBMClassifier из библиотеки LightGBM\n",
    "- Параметры модели: подобраны с учётом результатов подбора гиперпараметров, а также ручных корректировок для повышения обобщающей способности.\n",
    "- Пайплайн:\n",
    "    - Предобработчик: кастомный предобработчик DataPreproccessor из модуля helper.data, совмещающий BinaryEncoder, RobustScaler, экстракцию признаков.\n",
    "    - Модель: LGBMClassifier"
   ]
  },
  {
   "cell_type": "code",
   "execution_count": 14,
   "metadata": {},
   "outputs": [],
   "source": [
    "# Создание оверсемпл-датасета (отбор рандомных записей)\n",
    "oversampler = RandomOverSampler(random_state=42)\n",
    "X_res, y_res = oversampler.fit_resample(X_train, y_train)\n",
    "\n",
    "# Параметры модели\n",
    "parameters = {\n",
    "    'random_state': 42,\n",
    "    'penalty': 'l2',\n",
    "    'C': 0.4\n",
    "    }\n",
    "\n",
    "# Предобработчик и модель\n",
    "data_preprocessor = DataPreprocessor()\n",
    "model = LogisticRegression(**parameters, n_jobs=-1)\n",
    "\n",
    "# Пайплайн\n",
    "pipeline = Pipeline([\n",
    "    ('data_preproc', data_preprocessor),\n",
    "    ('model', model)\n",
    "])"
   ]
  },
  {
   "cell_type": "markdown",
   "metadata": {},
   "source": [
    "### Кросс-валидация\n",
    "- Для кроссвалидации используется алгоритм Stratified K-Fold, учитывающий распределение классов. \n",
    "- Число используемых фолдов: 5.\n",
    "- Метрика: F1-macro"
   ]
  },
  {
   "cell_type": "code",
   "execution_count": null,
   "metadata": {},
   "outputs": [],
   "source": [
    "# Запуск кросс-валидации\n",
    "cv_scores = cross_val_score(pipeline, X_general, y_general, cv=StratifiedKFold(n_splits=5), scoring='f1_macro', n_jobs=-1)\n",
    "print(f'Mean F1-macro: {cv_scores.mean()}')"
   ]
  },
  {
   "cell_type": "markdown",
   "metadata": {},
   "source": [
    "### Валидация на тестовой выборке"
   ]
  },
  {
   "cell_type": "code",
   "execution_count": 15,
   "metadata": {},
   "outputs": [],
   "source": [
    "# Обучение модели и получение предсказаний для тестовой выборки\n",
    "pipeline.fit(X_train, y_train)\n",
    "preds = pipeline.predict(X_test)"
   ]
  },
  {
   "cell_type": "code",
   "execution_count": 16,
   "metadata": {},
   "outputs": [
    {
     "data": {
      "image/png": "[encoded data removed]",
      "text/plain": [
       "<Figure size 640x480 with 2 Axes>"
      ]
     },
     "metadata": {},
     "output_type": "display_data"
    },
    {
     "name": "stdout",
     "output_type": "stream",
     "text": [
      "              precision    recall  f1-score   support\n",
      "\n",
      "           0    0.88908   0.97501   0.93006     18850\n",
      "           1    0.65444   0.28006   0.39226      3185\n",
      "\n",
      "    accuracy                        0.87456     22035\n",
      "   macro avg    0.77176   0.62754   0.66116     22035\n",
      "weighted avg    0.85516   0.87456   0.85233     22035\n",
      "\n",
      "F1-macro: 0.6611623011077362\n",
      "ROC-AUC score: 0.6275380284739891\n",
      "Accuracy: 0.8745631949171773\n"
     ]
    }
   ],
   "source": [
    "# Вывод результатов валидации\n",
    "valid_predictions(y_test, preds, pipeline.classes_)"
   ]
  }
 ],
 "metadata": {
  "kernelspec": {
   "display_name": "Python 3.11.4 ('env': venv)",
   "language": "python",
   "name": "python3"
  },
  "language_info": {
   "codemirror_mode": {
    "name": "ipython",
    "version": 3
   },
   "file_extension": ".py",
   "mimetype": "text/x-python",
   "name": "python",
   "nbconvert_exporter": "python",
   "pygments_lexer": "ipython3",
   "version": "3.11.4"
  },
  "orig_nbformat": 4,
  "vscode": {
   "interpreter": {
    "hash": "79663a0a9d8da7c7d65d8c29430beddf43ec80497536ce6768e4360a34723de0"
   }
  }
 },
 "nbformat": 4,
 "nbformat_minor": 2
}

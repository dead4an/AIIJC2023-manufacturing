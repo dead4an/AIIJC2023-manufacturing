{
 "cells": [
  {
   "cell_type": "code",
   "execution_count": 2,
   "metadata": {},
   "outputs": [
    {
     "name": "stdout",
     "output_type": "stream",
     "text": [
      "Число отличий: 0\n"
     ]
    }
   ],
   "source": [
    "# Код для проверки числа отличий предсказаний лучшей модели от предсказаний другой\n",
    "import pandas as pd\n",
    "data_true = pd.read_csv('submission_best.csv', index_col=0)\n",
    "data_current = pd.read_csv('submission.csv', index_col=0)\n",
    "count_difference = (~(data_true['value'] == data_current['value'])).sum()\n",
    "print(f'Число отличий: {count_difference}')"
   ]
  }
 ],
 "metadata": {
  "kernelspec": {
   "display_name": "env",
   "language": "python",
   "name": "python3"
  },
  "language_info": {
   "codemirror_mode": {
    "name": "ipython",
    "version": 3
   },
   "file_extension": ".py",
   "mimetype": "text/x-python",
   "name": "python",
   "nbconvert_exporter": "python",
   "pygments_lexer": "ipython3",
   "version": "3.11.4"
  },
  "orig_nbformat": 4
 },
 "nbformat": 4,
 "nbformat_minor": 2
}

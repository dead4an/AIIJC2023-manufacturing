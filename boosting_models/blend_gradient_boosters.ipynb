{
 "cells": [
  {
   "cell_type": "markdown",
   "metadata": {},
   "source": [
    "# Модель предсказания срывов поставок на основе блендинга LightGBM, CatBoost, XGBoost"
   ]
  },
  {
   "cell_type": "markdown",
   "metadata": {},
   "source": [
    "## Библиотеки и модули"
   ]
  },
  {
   "cell_type": "markdown",
   "metadata": {},
   "source": [
    "Загрузка библиотек и модулей, используемых в решении. \n",
    "- Модель: Блендинг **LGBMClassifier**, **CatBoostClassifier**, **XGBoostClassifier** из библиотек **LightGBM**, **CatBoost**, **XGBoost**\n",
    "- Предобработчик данных для модели: **DataPreprocessor** (из модуля **helper.data**)\n",
    "- Борьба с дисбалансом классов: **RandomOverSampler** (библиотека **imbalanced-learn**)\n",
    "- Разделение на тренировочную и тестовую выборки, кросс-валидация, оценка решения: \n",
    "    - библиотека **scikit-learn**\n",
    "    - **valid_predictions** (из модуля **helpers.validation**)\n",
    "- Работа с датасетом: библиотека **pandas** \n",
    "- Работа с файловой системой: модуль **os**"
   ]
  },
  {
   "cell_type": "code",
   "execution_count": 1,
   "metadata": {},
   "outputs": [],
   "source": [
    "# Модель\n",
    "from lightgbm import LGBMClassifier\n",
    "from xgboost import XGBClassifier\n",
    "from catboost import CatBoostClassifier\n",
    "\n",
    "# Пайплайн\n",
    "from sklearn.pipeline import Pipeline\n",
    "from helpers.data import DataPreprocessor, CAT_FEATURES\n",
    "from helpers.validation import valid_predictions\n",
    "\n",
    "# Данные\n",
    "import os\n",
    "import pandas as pd\n",
    "from sklearn.model_selection import train_test_split\n",
    "from imblearn.over_sampling import RandomOverSampler\n",
    "\n",
    "# Проверка GPU\n",
    "from catboost.utils import get_gpu_device_count\n",
    "TASK_TYPE = 'GPU' if get_gpu_device_count() else 'CPU'\n",
    "TREE_METHOD = 'gpu_hist' if get_gpu_device_count() else 'auto'\n",
    "\n",
    "\n",
    "# Настройки вывода\n",
    "import matplotlib.pyplot as plt\n",
    "import warnings\n",
    "warnings.filterwarnings('ignore')\n",
    "%matplotlib inline"
   ]
  },
  {
   "cell_type": "markdown",
   "metadata": {},
   "source": [
    "## Загрузка датасетов"
   ]
  },
  {
   "cell_type": "code",
   "execution_count": null,
   "metadata": {},
   "outputs": [],
   "source": [
    "# Пути\n",
    "ROOT = os.getcwd()\n",
    "TRAIN_DATASET = os.path.join(ROOT, '../data/train_AIC.csv')\n",
    "BALANCED_DATASET = os.path.join(ROOT, '../data/balanced_train.csv')\n",
    "TEST_DATASET = os.path.join(ROOT, '../data/test_AIC.csv')\n",
    "SUBMISSION_PATH = os.path.join(ROOT, '../submissions/')\n",
    "\n",
    "# Функции\n",
    "def make_predictions(model: object | Pipeline, X_test: pd.DataFrame) -> None:\n",
    "    \"\"\" Функция создания предсказаний для тестовой выборки.\n",
    "    \n",
    "    Обучает переданную модель на сбалансированном датасете, учитывая выбросы.\n",
    "    Предсказания сохраняются с помощью функции save_submission.\n",
    "    \n",
    "    Параметры:\n",
    "        model: Модель или пайплайн, используемый для обучения и предсказания меток\n",
    "            тестовой выборки.\n",
    "        X_test: Тестовая выборка, для которой будут сделаны предсказания.\n",
    "            Экземпляр pandas.DataFrame.\"\"\"\n",
    "    \n",
    "    # Загрузка сбалансированного датасета\n",
    "    balanced_df = pd.read_csv(BALANCED_DATASET, index_col=0)\n",
    "    \n",
    "    # Обрезка негативных записей до числа позитивных\n",
    "    first_negatives = balanced_df[balanced_df['y'] == 0][:balanced_df[balanced_df['y'] == 1]['y'].count()]\n",
    "    balanced_df = pd.concat([balanced_df[balanced_df['y'] == 1], first_negatives])\n",
    "\n",
    "    # Удаление выбросов\n",
    "    balanced_df = balanced_df[balanced_df['Длительность'] < 400]\n",
    "    balanced_df = balanced_df[(balanced_df['Сумма'] > 2) & (balanced_df['Сумма'] < 10)]\n",
    "    balanced_df = balanced_df[balanced_df['До поставки'] < 300]\n",
    "    balanced_df = balanced_df[balanced_df['Дней между 0_1'] < 400]\n",
    "    balanced_df = balanced_df[balanced_df['Количество изменений после согласований'] < 2000]\n",
    "    balanced_df = balanced_df[balanced_df['Количество'] < 300000]\n",
    "    \n",
    "    # Разделение независимых и независимых переменных\n",
    "    X, y = balanced_df.iloc[:, :-1], balanced_df.iloc[:, -1]   \n",
    "\n",
    "    # Обучение модели и создание предсказаний для тестовой выборки\n",
    "    model.fit(X, y)\n",
    "    preds = model.predict(X_test)\n",
    "\n",
    "    # Сохранение предсказаний\n",
    "    save_submission(preds, 'submission')\n",
    "    \n",
    "def save_submission(preds: list | pd.DataFrame | pd.arrays.PandasArray, subname: str) -> None:\n",
    "    subname = os.path.join(SUBMISSION_PATH, f'{subname}.csv')\n",
    "    submit_df = pd.DataFrame({'id': test_df.index, 'value': preds})\n",
    "    submit_df.to_csv(subname, index=False)\n",
    "\n",
    "\n",
    "# Загрузка датасетов\n",
    "train_df = pd.read_csv(TRAIN_DATASET)\n",
    "test_df = pd.read_csv(TEST_DATASET)\n",
    "\n",
    "# Удаление дубликатов из тренировочной выборки\n",
    "train_df = train_df.drop_duplicates()\n",
    "\n",
    "# Разделение выборки на тренировочную и тестовую\n",
    "X, y = train_df.iloc[:, :-1], train_df.iloc[:, -1]   \n",
    "X_train, X_test, y_train, y_test = train_test_split(X, y, test_size=0.1, random_state=42)\n",
    "\n",
    "# Удаление выбросов из тренировочной выборки\n",
    "X_train = pd.concat([X_train, y_train], axis=1) # Объединяем X_train и y_train\n",
    "X_train = X_train[X_train['Длительность'] < 400]\n",
    "X_train = X_train[(X_train['Сумма'] > 2) & (X_train['Сумма'] < 10)]\n",
    "X_train = X_train[X_train['До поставки'] < 300]\n",
    "X_train = X_train[X_train['Дней между 0_1'] < 400]\n",
    "X_train = X_train[X_train['Количество изменений после согласований'] < 2000]\n",
    "X_train = X_train[X_train['Количество'] < 300000]\n",
    "\n",
    "# Отделяем метки классов от признаков\n",
    "y_train = X_train['y']\n",
    "X_train = X_train.drop('y', axis=1)\n",
    "\n",
    "# Общий датасет для большего числа записей, используемых на кросс-валидации\n",
    "X_general, y_general = train_df.iloc[:, :-1], train_df.iloc[:, -1]"
   ]
  },
  {
   "cell_type": "code",
   "execution_count": null,
   "metadata": {},
   "outputs": [],
   "source": [
    "# Создание оверсемпл-датасета (отбор рандомных записей)\n",
    "oversampler = RandomOverSampler(random_state=42)\n",
    "X_res, y_res = oversampler.fit_resample(X_train, y_train)"
   ]
  },
  {
   "cell_type": "markdown",
   "metadata": {},
   "source": [
    "## Модели"
   ]
  },
  {
   "cell_type": "code",
   "execution_count": 7,
   "metadata": {},
   "outputs": [],
   "source": [
    "# Параметры модели\n",
    "parameters_xgb = {\n",
    "    'learning_rate': 0.23957113746389,\n",
    "    'iterations': 2374,\n",
    "    'max_depth': 18,\n",
    "    'num_leaves': 256,\n",
    "    'reg_lambda': 0.15,\n",
    "    'tree_method': TREE_METHOD,\n",
    "}\n",
    "\n",
    "# Предобработчик и модель\n",
    "data_preprocessor = DataPreprocessor()\n",
    "model_xgb = XGBClassifier(**parameters_xgb, n_jobs=-1)\n",
    "\n",
    "# Пайплайн\n",
    "pipeline_xgb = Pipeline([\n",
    "    ('data_preproc', data_preprocessor),\n",
    "    ('model', model_xgb)\n",
    "])"
   ]
  },
  {
   "cell_type": "code",
   "execution_count": null,
   "metadata": {},
   "outputs": [],
   "source": [
    "# Параметры модели\n",
    "parameters_lgbm = {\n",
    "    'objective': 'binary',\n",
    "    'force_col_wise': True,\n",
    "    'learning_rate': 0.25595401399911066, \n",
    "    'n_estimators': 2122, \n",
    "    'max_depth': 14, \n",
    "    'max_bin': 163, \n",
    "    'num_leaves': 176, \n",
    "    'reg_lambda': 0.15394653650963538, \n",
    "    }\n",
    "\n",
    "# Предобработчик и модель\n",
    "data_preprocessor = DataPreprocessor()\n",
    "model = LGBMClassifier(**parameters_lgbm, n_jobs=-1)\n",
    "\n",
    "# Пайплайн\n",
    "pipeline_lgbm = Pipeline([\n",
    "    ('data_preproc', data_preprocessor),\n",
    "    ('model', model)\n",
    "])"
   ]
  },
  {
   "cell_type": "code",
   "execution_count": null,
   "metadata": {},
   "outputs": [],
   "source": [
    "# Параметры\n",
    "parameters_cat = {\n",
    "    'cat_features': CAT_FEATURES,\n",
    "    'learning_rate': 0.15239281475612,\n",
    "    'n_estimators': 1873,\n",
    "    'max_depth': 12,\n",
    "    'l2_leaf_reg': 0.197235485663582,\n",
    "    'task_type': TASK_TYPE,\n",
    "}\n",
    "\n",
    "# Предобработчик и модель\n",
    "data_preprocessor = DataPreprocessor(encode_categorical=False)\n",
    "model_cat = CatBoostClassifier(**parameters_cat, eval_metric='F1')\n",
    "\n",
    "# Пайплайн\n",
    "pipeline_cat = Pipeline([('data_preproc', data_preprocessor),\n",
    "                         ('model', model_cat)])"
   ]
  },
  {
   "cell_type": "markdown",
   "metadata": {},
   "source": [
    "## Валидация на тестовой выборке"
   ]
  },
  {
   "cell_type": "code",
   "execution_count": null,
   "metadata": {},
   "outputs": [],
   "source": [
    "# Обучение модели и получение предсказаний для тестовой выборки\n",
    "pipeline_cat.fit(X_res, y_res, model__plot=True)\n",
    "preds_cat = pipeline_cat.predict_proba(X_test)"
   ]
  },
  {
   "cell_type": "code",
   "execution_count": null,
   "metadata": {},
   "outputs": [],
   "source": [
    "# Обучение модели и получение предсказаний для тестовой выборки\n",
    "pipeline_lgbm.fit(X_res, y_res)\n",
    "preds_lgbm = pipeline_lgbm.predict_proba(X_test)"
   ]
  },
  {
   "cell_type": "code",
   "execution_count": null,
   "metadata": {},
   "outputs": [],
   "source": [
    "# Обучение модели и получение предсказаний для тестовой выборки\n",
    "pipeline_xgb.fit(X_res, y_res)\n",
    "preds_xgb = pipeline_xgb.predict_proba(X_test)"
   ]
  },
  {
   "cell_type": "code",
   "execution_count": null,
   "metadata": {},
   "outputs": [],
   "source": [
    "# Бленд предсказаний моделей\n",
    "preds_blend = preds_xgb * 0.2 + preds_cat * 0.2 + preds_lgbm * 0.7\n",
    "preds = [1 if pred[1] > 0.47 else 0 for pred in preds_blend]"
   ]
  },
  {
   "cell_type": "code",
   "execution_count": null,
   "metadata": {},
   "outputs": [],
   "source": [
    "# Вывод результатов валидации\n",
    "valid_predictions(y_test, preds, pipeline_lgbm.classes_)"
   ]
  },
  {
   "cell_type": "markdown",
   "metadata": {},
   "source": [
    "## Получение предсказаний для AI Challenge"
   ]
  },
  {
   "cell_type": "code",
   "execution_count": null,
   "metadata": {},
   "outputs": [],
   "source": [
    "# Предсказание для тестовой выборки AI Challenge\n",
    "save_submission(preds, test_df)"
   ]
  }
 ],
 "metadata": {
  "kernelspec": {
   "display_name": "env",
   "language": "python",
   "name": "python3"
  },
  "language_info": {
   "codemirror_mode": {
    "name": "ipython",
    "version": 3
   },
   "file_extension": ".py",
   "mimetype": "text/x-python",
   "name": "python",
   "nbconvert_exporter": "python",
   "pygments_lexer": "ipython3",
   "version": "3.11.4"
  },
  "orig_nbformat": 4
 },
 "nbformat": 4,
 "nbformat_minor": 2
}

{
 "cells": [
  {
   "cell_type": "code",
   "execution_count": 25,
   "metadata": {},
   "outputs": [],
   "source": [
    "# Тюнинг\n",
    "import optuna as opt\n",
    "from lightgbm import LGBMClassifier\n",
    "from sklearn.model_selection import cross_val_score, train_test_split, StratifiedKFold\n",
    "from sklearn.metrics import f1_score, roc_auc_score\n",
    "\n",
    "# Пайплайн\n",
    "from sklearn.pipeline import Pipeline\n",
    "from sklearn.base import TransformerMixin, BaseEstimator\n",
    "\n",
    "# Данные\n",
    "import os\n",
    "import pandas as pd\n",
    "import numpy as np\n",
    "import matplotlib.pyplot as plt\n",
    "from category_encoders import BinaryEncoder\n",
    "from sklearn.preprocessing import RobustScaler, PowerTransformer, QuantileTransformer\n",
    "\n",
    "%matplotlib inline"
   ]
  },
  {
   "cell_type": "code",
   "execution_count": 135,
   "metadata": {},
   "outputs": [],
   "source": [
    "# Пути\n",
    "ROOT = os.getcwd()\n",
    "TRAIN_DATASET = os.path.join(ROOT, '../data/train_AIC.csv')\n",
    "BALANCED_DATASET = os.path.join(ROOT, '../data/balanced_train.csv')\n",
    "TEST_DATASET = os.path.join(ROOT, '../data/test_AIC.csv')\n",
    "SUBMISSION_PATH = os.path.join(ROOT, '../submissions/')\n",
    "\n",
    "def save_submission(model, subname):\n",
    "    subname = os.path.join(SUBMISSION_PATH, f'{subname}.csv')\n",
    "    preds = model.predict(test_df)\n",
    "    submit_df = pd.DataFrame({'id': test_df.index, 'value': preds})\n",
    "    submit_df.to_csv(subname, index=False)\n",
    "\n",
    "# Загрузка\n",
    "train_df = pd.read_csv(TRAIN_DATASET)\n",
    "train_df = train_df.drop_duplicates()\n",
    "balanced_df = pd.read_csv(BALANCED_DATASET, index_col=0)\n",
    "train_df = balanced_df\n",
    "test_df = pd.read_csv(TEST_DATASET)\n",
    "\n",
    "# first_negatives = train_df[train_df['y'] == 0][:train_df[train_df['y'] == 1]['y'].count()]\n",
    "# train_df = pd.concat([train_df[train_df['y'] == 1], first_negatives])\n",
    "\n",
    "# def random_undersample(df):\n",
    "#     neg_count, pos_count = np.bincount(df['y'])\n",
    "#     pos_df = df[df['y'] == 1]\n",
    "#     neg_df = df[df['y'] == 0]\n",
    "#     neg_df = neg_df.sample(n=pos_count, random_state=1708)\n",
    "#     return pd.concat([pos_df, neg_df])\n",
    "\n",
    "# balanced_df = random_undersample(train_df)\n",
    "\n",
    "# Нормализация\n",
    "# train_df = train_df[train_df['Длительность'] < 500]\n",
    "# train_df = train_df[(train_df['Сумма'] > 2) & (train_df['Сумма'] < 10)]\n",
    "# train_df = train_df[train_df['До поставки'] < 300]\n",
    "# train_df = train_df[train_df['Дней между 0_1'] < 400]\n",
    "\n",
    "X, y = train_df.iloc[:, :-1], train_df.iloc[:, -1]   \n",
    "X_train, X_test, y_train, y_test = train_test_split(X, y, test_size=0.1, random_state=42)\n",
    "\n",
    "X_train = pd.concat([X_train, y_train], axis=1)\n",
    "\n",
    "# X_train = X_train[(X_train['Сумма'] > 2) & (X_train['Сумма'] < 10)]\n",
    "# X_train = X_train[X_train['Длительность'] < 400]\n",
    "\n",
    "y_train = X_train['y']\n",
    "X_train = X_train.drop('y', axis=1)\n",
    "\n",
    "X_general, y_general = train_df.iloc[:, :-1], train_df.iloc[:, -1]"
   ]
  },
  {
   "cell_type": "code",
   "execution_count": 121,
   "metadata": {},
   "outputs": [],
   "source": [
    "# Категориальные фичи\n",
    "cat_features = [\n",
    "    'Purchasing Organization', 'Delivery Option', \n",
    "    'Company Code', 'Provider', 'Provider Delivery option', \n",
    "    'Provider Purchaser', 'Operations Manager', 'Sum Fold',\n",
    "    'Month1', 'Month2', 'Month3', 'Weekday', 'Material Group',\n",
    "    'Purchasing Group'\n",
    "    ]\n",
    "\n",
    "# Фичи на масштабирование\n",
    "scale_features = [\n",
    "    'Position Count', 'Duration', 'ETC Delivery',\n",
    "    'Changes After Approvals', 'Order Approval 1', 'Order Approval 2',\n",
    "    'Order Approval 3', 'Sum', 'Change Delivery Date 7', 'Change Delivery Date 15', \n",
    "    'Change Delivery Date 30', 'Approval Cycles', \n",
    "    'Handlers 7', 'Handlers 15', 'Handlers 30',\n",
    "    'Days Between 0_1', 'Days Between 1_2', 'Days Between 2_3', \n",
    "    'Days Between 3_4', 'Days Between 4_5', \n",
    "    'Days Between 5_6', 'Days Between 6_7', 'Days Between 7_8',\n",
    "    \n",
    "]\n",
    "\n",
    "# Фичи на дроп\n",
    "drop_features = [\n",
    "    'Material', 'Cancel Complete Release', 'Amount',\n",
    "    'Delivery Date', 'Change on Paper', \n",
    "    'Category Manager', 'NRP', 'EI', \n",
    "    ]\n",
    "\n",
    "# Новые имена фич\n",
    "rename_cols = [\n",
    "    'Provider', 'Material', 'Category Manager', 'Operations Manager',\n",
    "    'Factory', 'Purchasing Organization', 'Purchasing Group', \n",
    "    'Company Code', 'EI', 'Material Group', 'Delivery Option', 'NRP',\n",
    "    'Duration', 'ETC Delivery', 'Month1', 'Month2', 'Month3', 'Weekday',\n",
    "    'Sum', 'Position Count', 'Amount', 'Handlers 7', 'Handlers 15', \n",
    "    'Handlers 30', 'Order Approval 1', 'Order Approval 2', 'Order Approval 3',\n",
    "    'Change Delivery Date 7', 'Change Delivery Date 15', 'Change Delivery Date 30',\n",
    "    'Cancel Complete Release', 'Change on Paper', 'Delivery Date', \n",
    "    'Approval Cycles', 'Changes After Approvals', 'Days Between 0_1', \n",
    "    'Days Between 1_2', 'Days Between 2_3', 'Days Between 3_4', 'Days Between 4_5', \n",
    "    'Days Between 5_6', 'Days Between 6_7', 'Days Between 7_8'\n",
    "    ]"
   ]
  },
  {
   "cell_type": "code",
   "execution_count": 122,
   "metadata": {},
   "outputs": [],
   "source": [
    "# Препроцессоры\n",
    "class DataPreprocessor(BaseEstimator, TransformerMixin):\n",
    "    \"\"\" Предобработчик данных \"\"\"\n",
    "    def __init__(self, cat_features, scale_features,\n",
    "                 drop_features, rename_cols, transform_train=True):\n",
    "        self.transform_train = transform_train\n",
    "        self.cat_features = cat_features\n",
    "\n",
    "        self.bin_encoder = BinaryEncoder(cols=cat_features)\n",
    "        self.robust_scaler = RobustScaler()\n",
    "\n",
    "        self.rename_cols = rename_cols\n",
    "\n",
    "        self.drop_features = drop_features\n",
    "        self.scale_features = scale_features\n",
    "\n",
    "    def fit(self, X, y=None):\n",
    "        # Создаём копию датасета\n",
    "        X_ = X.copy()\n",
    "        X_.columns = self.rename_cols\n",
    "\n",
    "        # Экстракция фич\n",
    "        X_['Provider Purchaser'] = [f'{x}_{y}' for x, y in zip(X_['Provider'].values, X_['Purchasing Organization'].values)]\n",
    "        X_['Provider Delivery option'] = [f'{x}_{y}' for x, y in zip(X_['Provider'].values, X_['Delivery Option'].values)]\n",
    "        X_['Sum Fold'] = X_['Sum'].apply(lambda x: int(x % 10))\n",
    "        \n",
    "        # Нормализация\n",
    "        self.robust_scaler.fit(X_[self.scale_features])\n",
    "\n",
    "        # Категориальные фичи        \n",
    "        X_ = self.bin_encoder.fit_transform(X_)\n",
    "\n",
    "        X_ = X_.drop(self.drop_features, axis=1)\n",
    "        \n",
    "        return self\n",
    "    \n",
    "    def transform(self, X):\n",
    "        # Создаём копию датасета\n",
    "        X_ = X.copy()\n",
    "        X_.columns = self.rename_cols\n",
    "\n",
    "        # Экстракция фич\n",
    "        X_['Provider Purchaser'] = [f'{x}_{y}' for x, y in zip(X_['Provider'].values, X_['Purchasing Organization'].values)]\n",
    "        X_['Provider Delivery option'] = [f'{x}_{y}' for x, y in zip(X_['Provider'].values, X_['Delivery Option'].values)]\n",
    "        X_['Sum Fold'] = X_['Sum'].apply(lambda x: int(x % 10))\n",
    "\n",
    "        # Нормализация\n",
    "        X_[self.scale_features] = self.robust_scaler.transform(X_[self.scale_features])\n",
    "\n",
    "        # Категориальные фичи\n",
    "        X_ = self.bin_encoder.transform(X_)\n",
    "\n",
    "        X_ = X_.drop(self.drop_features, axis=1)\n",
    "\n",
    "        return X_\n"
   ]
  },
  {
   "cell_type": "code",
   "execution_count": 73,
   "metadata": {},
   "outputs": [],
   "source": [
    "# Функция оптимизации\n",
    "def objective(trial: opt.Trial):\n",
    "    # Параметры\n",
    "    learning_rate = trial.suggest_float('learning_rate', 0.1, 1)\n",
    "    n_estimators = trial.suggest_int('n_estimators', 700, 1500)\n",
    "    max_depth = trial.suggest_int('max_depth', 6, 16)\n",
    "    max_bin = trial.suggest_int('max_bin', 64, 256),\n",
    "    num_leaves = trial.suggest_int('num_leaves', 32, 128)\n",
    "    reg_lambda = trial.suggest_float('l2_reg', 0.1, 1)\n",
    "\n",
    "    # Модель\n",
    "    data_preprocessor = DataPreprocessor(cat_features, scale_features, drop_features, rename_cols)\n",
    "    model = LGBMClassifier(\n",
    "        learning_rate=learning_rate,\n",
    "        n_estimators=n_estimators,\n",
    "        max_depth=max_depth,\n",
    "        reg_lambda=reg_lambda,\n",
    "        max_bin=max_bin,\n",
    "        n_jobs=-1,\n",
    "        force_col_wise=True\n",
    "    )\n",
    "\n",
    "    pipeline = Pipeline([\n",
    "        ('data_preproc', data_preprocessor),\n",
    "        ('model', model)\n",
    "    ])\n",
    "    \n",
    "    cv_score = cross_val_score(pipeline, X_train, y_train, cv=StratifiedKFold(n_splits=8), scoring='f1_macro', n_jobs=-1)\n",
    "    accuracy = cv_score.mean()\n",
    "\n",
    "    return accuracy"
   ]
  },
  {
   "cell_type": "code",
   "execution_count": null,
   "metadata": {},
   "outputs": [],
   "source": [
    "study = opt.create_study(direction='maximize')\n",
    "study.optimize(objective, n_trials=100)"
   ]
  },
  {
   "cell_type": "code",
   "execution_count": 129,
   "metadata": {},
   "outputs": [],
   "source": [
    "best_params = {\n",
    "    'learning_rate': 0.3, \n",
    "    'n_estimators': 1500, \n",
    "    'max_depth': 16, \n",
    "    'max_bin': 160, \n",
    "    'num_leaves': 180,\n",
    "    'reg_lambda': 0.2,\n",
    "    }\n",
    "\n",
    "# Модель\n",
    "data_preprocessor = DataPreprocessor(cat_features, scale_features, drop_features, rename_cols)\n",
    "power = PowerTransformer()\n",
    "quantile = QuantileTransformer(random_state=42)\n",
    "model = LGBMClassifier(\n",
    "    **best_params,\n",
    "    n_jobs=-1,\n",
    "    force_col_wise=True,\n",
    "    # is_unbalance=True,\n",
    "    objective='binary'\n",
    ")\n",
    "\n",
    "pipeline = Pipeline([\n",
    "    ('data_preproc', data_preprocessor),\n",
    "    ('model', model)\n",
    "])"
   ]
  },
  {
   "cell_type": "code",
   "execution_count": 130,
   "metadata": {},
   "outputs": [
    {
     "name": "stdout",
     "output_type": "stream",
     "text": [
      "[LightGBM] [Warning] Found whitespace in feature_names, replace with underlines\n",
      "[LightGBM] [Info] Number of positive: 171250, number of negative: 169793\n",
      "[LightGBM] [Info] Total Bins 2238\n",
      "[LightGBM] [Info] Number of data points in the train set: 341043, number of used features: 114\n",
      "[LightGBM] [Info] [binary:BoostFromScore]: pavg=0.502136 -> initscore=0.008544\n",
      "[LightGBM] [Info] Start training from score 0.008544\n",
      "[LightGBM] [Warning] No further splits with positive gain, best gain: -inf\n"
     ]
    }
   ],
   "source": [
    "pipeline.fit(X_train, y_train)\n",
    "preds = pipeline.predict(X_test)"
   ]
  },
  {
   "cell_type": "code",
   "execution_count": 131,
   "metadata": {},
   "outputs": [
    {
     "name": "stdout",
     "output_type": "stream",
     "text": [
      "0.9875398772014594\n",
      "0.9874668082846522\n"
     ]
    }
   ],
   "source": [
    "print(f1_score(y_test, preds, average='macro'))\n",
    "print(roc_auc_score(y_test, preds))"
   ]
  },
  {
   "cell_type": "code",
   "execution_count": 10,
   "metadata": {},
   "outputs": [
    {
     "name": "stdout",
     "output_type": "stream",
     "text": [
      "0.9014164477356091\n",
      "0.8894369064362236\n"
     ]
    }
   ],
   "source": [
    "print(f1_score(y_test, preds, average='macro'))\n",
    "print(roc_auc_score(y_test, preds))"
   ]
  },
  {
   "cell_type": "code",
   "execution_count": 11,
   "metadata": {},
   "outputs": [
    {
     "name": "stdout",
     "output_type": "stream",
     "text": [
      "0.9072308906094693\n",
      "0.8948501780603438\n"
     ]
    }
   ],
   "source": [
    "# Для сравнения\n",
    "print(f1_score(y_test, preds, average='macro'))\n",
    "print(roc_auc_score(y_test, preds))"
   ]
  },
  {
   "cell_type": "code",
   "execution_count": 75,
   "metadata": {},
   "outputs": [],
   "source": [
    "feature_importances = pd.DataFrame({'Feature': pipeline['model'].feature_name_, 'Importance': pipeline['model'].feature_importances_})\n",
    "feature_importances.to_csv('features.csv', index=False)"
   ]
  },
  {
   "cell_type": "code",
   "execution_count": 136,
   "metadata": {},
   "outputs": [
    {
     "name": "stdout",
     "output_type": "stream",
     "text": [
      "[LightGBM] [Warning] Found whitespace in feature_names, replace with underlines\n",
      "[LightGBM] [Info] Number of positive: 190314, number of negative: 188623\n",
      "[LightGBM] [Info] Total Bins 2228\n",
      "[LightGBM] [Info] Number of data points in the train set: 378937, number of used features: 115\n",
      "[LightGBM] [Info] [binary:BoostFromScore]: pavg=0.502231 -> initscore=0.008925\n",
      "[LightGBM] [Info] Start training from score 0.008925\n",
      "[LightGBM] [Warning] No further splits with positive gain, best gain: -inf\n",
      "[LightGBM] [Warning] No further splits with positive gain, best gain: -inf\n",
      "[LightGBM] [Warning] No further splits with positive gain, best gain: -inf\n"
     ]
    }
   ],
   "source": [
    "pipeline.fit(X_general, y_general)\n",
    "preds = pipeline.predict(X_test)"
   ]
  },
  {
   "cell_type": "code",
   "execution_count": 138,
   "metadata": {},
   "outputs": [],
   "source": [
    "save_submission(pipeline, 'submission')"
   ]
  }
 ],
 "metadata": {
  "kernelspec": {
   "display_name": "Python 3.11.4 ('env': venv)",
   "language": "python",
   "name": "python3"
  },
  "language_info": {
   "codemirror_mode": {
    "name": "ipython",
    "version": 3
   },
   "file_extension": ".py",
   "mimetype": "text/x-python",
   "name": "python",
   "nbconvert_exporter": "python",
   "pygments_lexer": "ipython3",
   "version": "3.11.4"
  },
  "orig_nbformat": 4,
  "vscode": {
   "interpreter": {
    "hash": "79663a0a9d8da7c7d65d8c29430beddf43ec80497536ce6768e4360a34723de0"
   }
  }
 },
 "nbformat": 4,
 "nbformat_minor": 2
}

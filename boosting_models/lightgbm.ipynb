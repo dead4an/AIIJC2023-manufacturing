{
 "cells": [
  {
   "cell_type": "markdown",
   "metadata": {},
   "source": [
    "## Модули"
   ]
  },
  {
   "cell_type": "code",
   "execution_count": 9,
   "metadata": {},
   "outputs": [],
   "source": [
    "# Модель\n",
    "import optuna as opt\n",
    "from lightgbm import LGBMClassifier\n",
    "from sklearn.model_selection import cross_val_score, train_test_split, StratifiedKFold\n",
    "from sklearn.metrics import f1_score, roc_auc_score, make_scorer, confusion_matrix\n",
    "\n",
    "# Пайплайн\n",
    "from sklearn.pipeline import Pipeline\n",
    "from sklearn.base import TransformerMixin, BaseEstimator\n",
    "from helpers.data import DataPreprocessor\n",
    "from helpers.validation import valid_predictions\n",
    "\n",
    "# Данные\n",
    "import os\n",
    "import pandas as pd\n",
    "import numpy as np\n",
    "import matplotlib.pyplot as plt\n",
    "\n",
    "%matplotlib inline"
   ]
  },
  {
   "cell_type": "markdown",
   "metadata": {},
   "source": [
    "## Загрузка датасетов"
   ]
  },
  {
   "cell_type": "code",
   "execution_count": null,
   "metadata": {},
   "outputs": [],
   "source": [
    "# Пути\n",
    "ROOT = os.getcwd()\n",
    "TRAIN_DATASET = os.path.join(ROOT, '../data/train_AIC.csv')\n",
    "BALANCED_DATASET = os.path.join(ROOT, '../data/balanced_train.csv')\n",
    "TEST_DATASET = os.path.join(ROOT, '../data/test_AIC.csv')\n",
    "SUBMISSION_PATH = os.path.join(ROOT, '../submissions/')\n",
    "\n",
    "def make_predictions(model, X_test):\n",
    "    # Загрузка сбалансированного датасета\n",
    "    balanced_df = pd.read_csv(BALANCED_DATASET, index_col=0)\n",
    "\n",
    "    # Удаление дубликатов\n",
    "    balanced_df = balanced_df.drop_duplicates()\n",
    "\n",
    "    # Обрезка негативных записей до числа позитивных\n",
    "    first_negatives = balanced_df[balanced_df['y'] == 0][:balanced_df[balanced_df['y'] == 1]['y'].count()]\n",
    "    balanced_df = pd.concat([balanced_df[balanced_df['y'] == 1], first_negatives])\n",
    "\n",
    "    # Удаление выбросов\n",
    "    balanced_df = balanced_df[balanced_df['Длительность'] < 400]\n",
    "    balanced_df = balanced_df[(balanced_df['Сумма'] > 2) & (balanced_df['Сумма'] < 10)]\n",
    "    balanced_df = balanced_df[balanced_df['До поставки'] < 300]\n",
    "    balanced_df = balanced_df[balanced_df['Дней между 0_1'] < 400]\n",
    "    balanced_df = balanced_df[balanced_df['Количество изменений после согласований'] < 2000]\n",
    "    balanced_df = balanced_df[balanced_df['Количество'] < 300000]\n",
    "\n",
    "    X, y = balanced_df.iloc[:, :-1], balanced_df.iloc[:, -1]   \n",
    "    model.fit(X, y)\n",
    "    preds = model.predict(X_test)\n",
    "\n",
    "    save_submission(preds, 'submission')\n",
    "    \n",
    "def save_submission(preds, subname):\n",
    "    subname = os.path.join(SUBMISSION_PATH, f'{subname}.csv')\n",
    "    submit_df = pd.DataFrame({'id': test_df.index, 'value': preds})\n",
    "    submit_df.to_csv(subname, index=False)\n",
    "\n",
    "# Загрузка датасетов\n",
    "train_df = pd.read_csv(TRAIN_DATASET)\n",
    "test_df = pd.read_csv(TEST_DATASET)\n",
    "\n",
    "# Удаление дубликатов из тренировочной выборки\n",
    "train_df = train_df.drop_duplicates()\n",
    "\n",
    "# Разделение выборки на тренировочную и тестовую\n",
    "X, y = train_df.iloc[:, :-1], train_df.iloc[:, -1]   \n",
    "X_train, X_test, y_train, y_test = train_test_split(X, y, test_size=0.1, random_state=42)\n",
    "\n",
    "# Удаление выбросов из тренировочной выборки\n",
    "X_train = pd.concat([X_train, y_train], axis=1) # Объединяем X_train и y_train для удаления выбросов только из тренировочной выборки\n",
    "X_train = X_train[X_train['Длительность'] < 400]\n",
    "X_train = X_train[(X_train['Сумма'] > 2) & (X_train['Сумма'] < 10)]\n",
    "X_train = X_train[X_train['До поставки'] < 300]\n",
    "X_train = X_train[X_train['Дней между 0_1'] < 400]\n",
    "X_train = X_train[X_train['Количество изменений после согласований'] < 2000]\n",
    "X_train = X_train[X_train['Количество'] < 300000]\n",
    "\n",
    "# Отделяем метки классов от признаков\n",
    "y_train = X_train['y']\n",
    "X_train = X_train.drop('y', axis=1)\n",
    "\n",
    "# Общий датасет для большего числа записей на кросс-валидации\n",
    "X_general, y_general = train_df.iloc[:, :-1], train_df.iloc[:, -1]"
   ]
  },
  {
   "cell_type": "markdown",
   "metadata": {},
   "source": [
    "## Препроцессор"
   ]
  },
  {
   "cell_type": "code",
   "execution_count": null,
   "metadata": {},
   "outputs": [],
   "source": [
    "def objective_f1_macro(trial: opt.Trial) -> float:\n",
    "    \"\"\" Функция оптимизации F1 (macro).\n",
    "    \n",
    "    Использует библиотеку optuna для подбора параметров из\n",
    "    заданного диапазона. В качестве оптимизируемой метрики \n",
    "    выступает F1 (macro).\n",
    "    \n",
    "    Параметры:\n",
    "        trial: экзмепляр optuna.Trial, представляющей собой\n",
    "        историю оптимизации целевой функции.\n",
    "        \n",
    "    Пример:\n",
    "        study = optuna.create_study(direction='maximize')\n",
    "        study.optimize(objective, n_trials=100)\n",
    "        \n",
    "    Возвращает F1 (macro) метрику для подобранных параметров.\"\"\"\n",
    "    \n",
    "    # Параметры\n",
    "    learning_rate = trial.suggest_float('learning_rate', 0.01, 1)\n",
    "    n_estimators = trial.suggest_int('n_estimators', 500, 3000)\n",
    "    max_depth = trial.suggest_int('max_depth', 6, 32)\n",
    "    max_bin = trial.suggest_int('max_bin', 32, 200),\n",
    "    num_leaves = trial.suggest_int('num_leaves', 32, 300)\n",
    "    reg_lambda = trial.suggest_float('reg_lambda', 0.01, 1)\n",
    "\n",
    "    # Модель\n",
    "    data_preprocessor = DataPreprocessor()\n",
    "    model = LGBMClassifier(learning_rate=learning_rate, n_estimators=n_estimators,\n",
    "                           max_depth=max_depth, max_bin=max_bin, num_leaves=num_leaves,\n",
    "                           reg_lambda=reg_lambda)\n",
    "\n",
    "    pipeline = Pipeline([\n",
    "        ('data_preproc', data_preprocessor),\n",
    "        ('model', model)\n",
    "    ])\n",
    "    \n",
    "    cv_score = cross_val_score(pipeline, X, y, cv=StratifiedKFold(n_splits=5), scoring='f1_macro', n_jobs=-1)\n",
    "    accuracy = cv_score.mean()\n",
    "\n",
    "    return accuracy"
   ]
  },
  {
   "cell_type": "code",
   "execution_count": null,
   "metadata": {},
   "outputs": [],
   "source": [
    "# Запуск подбора гиперпараметров\n",
    "study = opt.create_study(direction='maximize')\n",
    "study.optimize(objective_f1_macro, n_trials=100)"
   ]
  },
  {
   "cell_type": "code",
   "execution_count": null,
   "metadata": {},
   "outputs": [],
   "source": [
    "def objective_confusion_matrix(trial: opt.Trial) -> int:\n",
    "    \"\"\" Функция оптимизации FP и FN значений матрицы ошибок.\n",
    "    \n",
    "    Использует библиотеку optuna для подбора параметров из\n",
    "    заданного диапазона. В качестве оптимизируемой метрики \n",
    "    выступает сумма FP и FN значений матрицы ошибок.\n",
    "    \n",
    "    Параметры:\n",
    "        trial: Экзмепляр optuna.Trial, представляющей собой\n",
    "            историю оптимизации целевой функции.\n",
    "        \n",
    "    Пример:\n",
    "        study = optuna.create_study(direction='minimize')\n",
    "        study.optimize(objective_confusion_matrix, n_trials=100)\n",
    "        \n",
    "    Возвращает сумму FP и FN значений матрицы ошибок для подобранных параметров.\"\"\"\n",
    "    \n",
    "    # Параметры\n",
    "    learning_rate = trial.suggest_float('learning_rate', 0.01, 1)\n",
    "    n_estimators = trial.suggest_int('n_estimators', 500, 3000)\n",
    "    max_depth = trial.suggest_int('max_depth', 6, 32)\n",
    "    max_bin = trial.suggest_int('max_bin', 32, 200),\n",
    "    num_leaves = trial.suggest_int('num_leaves', 32, 300)\n",
    "    reg_lambda = trial.suggest_float('reg_lambda', 0.01, 1)\n",
    "\n",
    "\n",
    "    # Модель\n",
    "    data_preprocessor = DataPreprocessor()\n",
    "    model = LGBMClassifier(learning_rate=learning_rate, n_estimators=n_estimators,\n",
    "                           max_depth=max_depth, max_bin=max_bin, num_leaves=num_leaves,\n",
    "                           reg_lambda=reg_lambda)\n",
    "    \n",
    "    pipeline = Pipeline([\n",
    "        ('data_preproc', data_preprocessor),\n",
    "        ('model', model)\n",
    "    ])\n",
    "    \n",
    "    def confusion_matrix_score(y_true, y_pred):\n",
    "        _, fp, fn, _ = confusion_matrix(y_true, y_pred).ravel()\n",
    "        return fp + fn\n",
    "    \n",
    "    scorer = make_scorer(confusion_matrix_score)\n",
    "    cv_scores = cross_val_score(pipeline, X, y, cv=5, scoring=scorer)\n",
    "\n",
    "    return cv_scores.mean()"
   ]
  },
  {
   "cell_type": "code",
   "execution_count": null,
   "metadata": {},
   "outputs": [],
   "source": [
    "# Запуск подбора гиперпараметров\n",
    "study = opt.create_study(direction='minimize')\n",
    "study.optimize(objective_confusion_matrix, n_trials=100)"
   ]
  },
  {
   "cell_type": "markdown",
   "metadata": {},
   "source": [
    "## Тесты"
   ]
  },
  {
   "cell_type": "code",
   "execution_count": null,
   "metadata": {},
   "outputs": [],
   "source": [
    "# Параметры модели\n",
    "parameters = {\n",
    "    'application': 'binary',\n",
    "    'objective': 'binary',\n",
    "    'force_col_wise': True,\n",
    "    'learning_rate': 0.25595401399911066, \n",
    "    'n_estimators': 2122, \n",
    "    'max_depth': 14, \n",
    "    'max_bin': 163, \n",
    "    'num_leaves': 176, \n",
    "    'reg_lambda': 0.15394653650963538, \n",
    "    }\n",
    "\n",
    "# Предобработчик и модель\n",
    "data_preprocessor = DataPreprocessor()\n",
    "model = LGBMClassifier(**parameters, n_jobs=-1)\n",
    "\n",
    "# Пайплайн\n",
    "pipeline = Pipeline([\n",
    "    ('data_preproc', data_preprocessor),\n",
    "    ('model', model)\n",
    "])"
   ]
  },
  {
   "cell_type": "markdown",
   "metadata": {},
   "source": [
    "### Кросс-валидация"
   ]
  },
  {
   "cell_type": "code",
   "execution_count": null,
   "metadata": {},
   "outputs": [],
   "source": [
    "# Запуск кросс-валидации\n",
    "cv_scores = cross_val_score(pipeline, X_general, y_general, cv=StratifiedKFold(n_splits=5), scoring='f1_macro', n_jobs=-1)\n",
    "print(f'Mean CV: {cv_scores.mean()}')"
   ]
  },
  {
   "cell_type": "markdown",
   "metadata": {},
   "source": [
    "### Валидация на тестовой выборке"
   ]
  },
  {
   "cell_type": "code",
   "execution_count": null,
   "metadata": {},
   "outputs": [],
   "source": [
    "# Обучение модели и получение предсказаний для тестовой выборки\n",
    "pipeline.fit(X_train, y_train)\n",
    "preds = pipeline.predict(X_test)"
   ]
  },
  {
   "cell_type": "code",
   "execution_count": null,
   "metadata": {},
   "outputs": [],
   "source": [
    "# Вывод результатов валидации\n",
    "valid_predictions(y_test, preds)"
   ]
  },
  {
   "cell_type": "markdown",
   "metadata": {},
   "source": [
    "### Важность признаков"
   ]
  },
  {
   "cell_type": "code",
   "execution_count": null,
   "metadata": {},
   "outputs": [],
   "source": [
    "feature_importances = pd.DataFrame({'Feature': pipeline['model'].feature_name_, 'Importance': pipeline['model'].feature_importances_})\n",
    "feature_importances.to_csv('features.csv', index=False)"
   ]
  },
  {
   "cell_type": "markdown",
   "metadata": {},
   "source": [
    "## Финальный фит-предикт"
   ]
  },
  {
   "cell_type": "code",
   "execution_count": null,
   "metadata": {},
   "outputs": [],
   "source": [
    "pipeline.fit(X_general, y_general)\n",
    "save_submission(pipeline, 'submission')"
   ]
  }
 ],
 "metadata": {
  "kernelspec": {
   "display_name": "Python 3.11.4 ('env': venv)",
   "language": "python",
   "name": "python3"
  },
  "language_info": {
   "codemirror_mode": {
    "name": "ipython",
    "version": 3
   },
   "file_extension": ".py",
   "mimetype": "text/x-python",
   "name": "python",
   "nbconvert_exporter": "python",
   "pygments_lexer": "ipython3",
   "version": "3.11.4"
  },
  "orig_nbformat": 4,
  "vscode": {
   "interpreter": {
    "hash": "79663a0a9d8da7c7d65d8c29430beddf43ec80497536ce6768e4360a34723de0"
   }
  }
 },
 "nbformat": 4,
 "nbformat_minor": 2
}

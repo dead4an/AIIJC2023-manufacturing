{
 "cells": [
  {
   "cell_type": "markdown",
   "metadata": {},
   "source": [
    "## Модули"
   ]
  },
  {
   "cell_type": "code",
   "execution_count": 1,
   "metadata": {},
   "outputs": [],
   "source": [
    "# Модель\n",
    "from lightgbm import LGBMClassifier\n",
    "from sklearn.model_selection import cross_val_score, train_test_split, StratifiedKFold\n",
    "\n",
    "# Пайплайн\n",
    "from sklearn.pipeline import Pipeline\n",
    "from helpers.data import DataPreprocessor\n",
    "from helpers.validation import valid_predictions\n",
    "\n",
    "# Данные\n",
    "import os\n",
    "import pandas as pd\n",
    "from imblearn.over_sampling import RandomOverSampler\n",
    "\n",
    "# Отображение\n",
    "import warnings\n",
    "warnings.filterwarnings('ignore')\n",
    "%matplotlib inline"
   ]
  },
  {
   "cell_type": "markdown",
   "metadata": {},
   "source": [
    "## Загрузка датасетов"
   ]
  },
  {
   "cell_type": "code",
   "execution_count": 2,
   "metadata": {},
   "outputs": [],
   "source": [
    "# Пути\n",
    "ROOT = os.getcwd()\n",
    "TRAIN_DATASET = os.path.join(ROOT, '../data/train_AIC.csv')\n",
    "BALANCED_DATASET = os.path.join(ROOT, '../data/balanced_train.csv')\n",
    "TEST_DATASET = os.path.join(ROOT, '../data/test_AIC.csv')\n",
    "SUBMISSION_PATH = os.path.join(ROOT, '../submissions/')\n",
    "\n",
    "def make_predictions(model, X_test):\n",
    "    # Загрузка сбалансированного датасета\n",
    "    balanced_df = pd.read_csv(BALANCED_DATASET, index_col=0)\n",
    "    \n",
    "    # Обрезка негативных записей до числа позитивных\n",
    "    first_negatives = balanced_df[balanced_df['y'] == 0][:balanced_df[balanced_df['y'] == 1]['y'].count()]\n",
    "    balanced_df = pd.concat([balanced_df[balanced_df['y'] == 1], first_negatives])\n",
    "\n",
    "    # Удаление выбросов\n",
    "    balanced_df = balanced_df[balanced_df['Длительность'] < 400]\n",
    "    balanced_df = balanced_df[(balanced_df['Сумма'] > 2) & (balanced_df['Сумма'] < 10)]\n",
    "    balanced_df = balanced_df[balanced_df['До поставки'] < 300]\n",
    "    balanced_df = balanced_df[balanced_df['Дней между 0_1'] < 400]\n",
    "    balanced_df = balanced_df[balanced_df['Количество изменений после согласований'] < 2000]\n",
    "    balanced_df = balanced_df[balanced_df['Количество'] < 300000]\n",
    "\n",
    "    X, y = balanced_df.iloc[:, :-1], balanced_df.iloc[:, -1]   \n",
    "    model.fit(X, y)\n",
    "    preds = model.predict(X_test)\n",
    "\n",
    "    save_submission(preds, 'submission')\n",
    "    \n",
    "def save_submission(preds, subname):\n",
    "    subname = os.path.join(SUBMISSION_PATH, f'{subname}.csv')\n",
    "    submit_df = pd.DataFrame({'id': test_df.index, 'value': preds})\n",
    "    submit_df.to_csv(subname, index=False)\n",
    "\n",
    "# Загрузка датасетов\n",
    "train_df = pd.read_csv(TRAIN_DATASET)\n",
    "test_df = pd.read_csv(TEST_DATASET)\n",
    "\n",
    "# Удаление дубликатов из тренировочной выборки\n",
    "train_df = train_df.drop_duplicates()\n",
    "\n",
    "# Разделение выборки на тренировочную и тестовую\n",
    "X, y = train_df.iloc[:, :-1], train_df.iloc[:, -1]   \n",
    "X_train, X_test, y_train, y_test = train_test_split(X, y, test_size=0.1, random_state=42)\n",
    "\n",
    "# Удаление выбросов из тренировочной выборки\n",
    "X_train = pd.concat([X_train, y_train], axis=1) # Объединяем X_train и y_train для удаления выбросов только из тренировочной выборки\n",
    "X_train = X_train[X_train['Длительность'] < 400]\n",
    "X_train = X_train[(X_train['Сумма'] > 2) & (X_train['Сумма'] < 10)]\n",
    "X_train = X_train[X_train['До поставки'] < 300]\n",
    "X_train = X_train[X_train['Дней между 0_1'] < 400]\n",
    "X_train = X_train[X_train['Количество изменений после согласований'] < 2000]\n",
    "X_train = X_train[X_train['Количество'] < 300000]\n",
    "\n",
    "# Отделяем метки классов от признаков\n",
    "y_train = X_train['y']\n",
    "X_train = X_train.drop('y', axis=1)\n",
    "\n",
    "# Общий датасет для большего числа записей на кросс-валидации\n",
    "X_general, y_general = train_df.iloc[:, :-1], train_df.iloc[:, -1]"
   ]
  },
  {
   "cell_type": "markdown",
   "metadata": {},
   "source": [
    "## Тесты"
   ]
  },
  {
   "cell_type": "code",
   "execution_count": 3,
   "metadata": {},
   "outputs": [],
   "source": [
    "# Создание оверсемпл-датасета (отбор рандомных записей)\n",
    "oversampler = RandomOverSampler(random_state=42)\n",
    "X_res, y_res = oversampler.fit_resample(X_train, y_train)\n",
    "\n",
    "# Параметры модели\n",
    "parameters = {\n",
    "    'objective': 'binary',\n",
    "    'force_col_wise': True,\n",
    "    'learning_rate': 0.25595401399911066, \n",
    "    'n_estimators': 2122, \n",
    "    'max_depth': 14, \n",
    "    'max_bin': 163, \n",
    "    'num_leaves': 176, \n",
    "    'reg_lambda': 0.15394653650963538, \n",
    "    }\n",
    "\n",
    "# Предобработчик и модель\n",
    "data_preprocessor = DataPreprocessor()\n",
    "model = LGBMClassifier(**parameters, n_jobs=-1)\n",
    "\n",
    "# Пайплайн\n",
    "pipeline = Pipeline([\n",
    "    ('data_preproc', data_preprocessor),\n",
    "    ('model', model)\n",
    "])"
   ]
  },
  {
   "cell_type": "markdown",
   "metadata": {},
   "source": [
    "### Кросс-валидация"
   ]
  },
  {
   "cell_type": "code",
   "execution_count": null,
   "metadata": {},
   "outputs": [],
   "source": [
    "# Запуск кросс-валидации\n",
    "cv_scores = cross_val_score(pipeline, X_general, y_general, cv=StratifiedKFold(n_splits=5), scoring='f1_macro', n_jobs=-1)\n",
    "print(f'Mean CV: {cv_scores.mean()}')"
   ]
  },
  {
   "cell_type": "markdown",
   "metadata": {},
   "source": [
    "### Валидация на тестовой выборке"
   ]
  },
  {
   "cell_type": "code",
   "execution_count": 4,
   "metadata": {},
   "outputs": [
    {
     "name": "stdout",
     "output_type": "stream",
     "text": [
      "[LightGBM] [Info] Number of positive: 169286, number of negative: 169286\n",
      "[LightGBM] [Info] Total Bins 2601\n",
      "[LightGBM] [Info] Number of data points in the train set: 338572, number of used features: 103\n",
      "[LightGBM] [Info] [binary:BoostFromScore]: pavg=0.500000 -> initscore=0.000000\n",
      "[LightGBM] [Warning] No further splits with positive gain, best gain: -inf\n",
      "[LightGBM] [Warning] No further splits with positive gain, best gain: -inf\n",
      "[LightGBM] [Warning] No further splits with positive gain, best gain: -inf\n"
     ]
    }
   ],
   "source": [
    "# Обучение модели и получение предсказаний для тестовой выборки\n",
    "pipeline.fit(X_res, y_res)\n",
    "preds = pipeline.predict(X_test)"
   ]
  },
  {
   "cell_type": "code",
   "execution_count": 5,
   "metadata": {},
   "outputs": [
    {
     "data": {
      "image/png": "[encoded data removed]",
      "text/plain": [
       "<Figure size 640x480 with 2 Axes>"
      ]
     },
     "metadata": {},
     "output_type": "display_data"
    },
    {
     "name": "stdout",
     "output_type": "stream",
     "text": [
      "              precision    recall  f1-score   support\n",
      "\n",
      "           0    0.96972   0.97692   0.97331     18850\n",
      "           1    0.85714   0.81947   0.83788      3185\n",
      "\n",
      "    accuracy                        0.95416     22035\n",
      "   macro avg    0.91343   0.89819   0.90559     22035\n",
      "weighted avg    0.95345   0.95416   0.95373     22035\n",
      "\n",
      "F1-macro: 0.9055949439899009\n",
      "ROC-AUC score: 0.8981946624803767\n",
      "Accuracy: 0.9541638302700249\n"
     ]
    }
   ],
   "source": [
    "# Вывод результатов валидации\n",
    "valid_predictions(y_test, preds, pipeline.classes_)"
   ]
  },
  {
   "cell_type": "markdown",
   "metadata": {},
   "source": [
    "### Важность признаков"
   ]
  },
  {
   "cell_type": "code",
   "execution_count": null,
   "metadata": {},
   "outputs": [],
   "source": [
    "feature_importances = pd.DataFrame({'Feature': pipeline['model'].feature_name_, 'Importance': pipeline['model'].feature_importances_})\n",
    "feature_importances.to_csv('features.csv', index=False)"
   ]
  },
  {
   "cell_type": "markdown",
   "metadata": {},
   "source": [
    "## Финальный фит-предикт"
   ]
  },
  {
   "cell_type": "code",
   "execution_count": null,
   "metadata": {},
   "outputs": [],
   "source": [
    "# Предсказание для тестовой выборки AI Challenge\n",
    "make_predictions(pipeline, test_df)"
   ]
  }
 ],
 "metadata": {
  "kernelspec": {
   "display_name": "Python 3.11.4 ('env': venv)",
   "language": "python",
   "name": "python3"
  },
  "language_info": {
   "codemirror_mode": {
    "name": "ipython",
    "version": 3
   },
   "file_extension": ".py",
   "mimetype": "text/x-python",
   "name": "python",
   "nbconvert_exporter": "python",
   "pygments_lexer": "ipython3",
   "version": "3.11.4"
  },
  "orig_nbformat": 4,
  "vscode": {
   "interpreter": {
    "hash": "79663a0a9d8da7c7d65d8c29430beddf43ec80497536ce6768e4360a34723de0"
   }
  }
 },
 "nbformat": 4,
 "nbformat_minor": 2
}

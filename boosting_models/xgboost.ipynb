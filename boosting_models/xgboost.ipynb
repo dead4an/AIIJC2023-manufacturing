{
 "cells": [
  {
   "cell_type": "markdown",
   "metadata": {},
   "source": [
    "# Модель предсказания срывов поставок на основе XGBoost"
   ]
  },
  {
   "cell_type": "markdown",
   "metadata": {},
   "source": [
    "## Библиотеки и модули"
   ]
  },
  {
   "cell_type": "markdown",
   "metadata": {},
   "source": [
    "Загрузка библиотек и модулей, используемых при решении. \n",
    "- Модель: **XGBClassifier** из библиотеки **XGBoost**\n",
    "- Предобработчик данных для модели: **DataPreprocessor** (из модуля **helper.data**)\n",
    "- Борьба с дисбалансом классов: **RandomOverSampler** (библиотека **imbalanced-learn**)\n",
    "- Разделение на тренировочную и тестовую выборки, кросс-валидация, оценка решения: \n",
    "    - библиотека **scikit-learn**\n",
    "    - **valid_predictions** (из модуля **helpers.validation**)\n",
    "- Работа с датасетом: библиотека **pandas** \n",
    "- Работа с файловой системой: модуль **os**"
   ]
  },
  {
   "cell_type": "code",
   "execution_count": 1,
   "metadata": {},
   "outputs": [
    {
     "ename": "ModuleNotFoundError",
     "evalue": "No module named 'helpers'",
     "output_type": "error",
     "traceback": [
      "\u001b[0;31m---------------------------------------------------------------------------\u001b[0m",
      "\u001b[0;31mModuleNotFoundError\u001b[0m                       Traceback (most recent call last)",
      "Cell \u001b[0;32mIn[1], line 8\u001b[0m\n\u001b[1;32m      6\u001b[0m \u001b[38;5;66;03m# Пайплайн\u001b[39;00m\n\u001b[1;32m      7\u001b[0m \u001b[38;5;28;01mfrom\u001b[39;00m \u001b[38;5;21;01msklearn\u001b[39;00m\u001b[38;5;21;01m.\u001b[39;00m\u001b[38;5;21;01mpipeline\u001b[39;00m \u001b[38;5;28;01mimport\u001b[39;00m Pipeline\n\u001b[0;32m----> 8\u001b[0m \u001b[38;5;28;01mfrom\u001b[39;00m \u001b[38;5;21;01mhelpers\u001b[39;00m\u001b[38;5;21;01m.\u001b[39;00m\u001b[38;5;21;01mdata\u001b[39;00m \u001b[38;5;28;01mimport\u001b[39;00m DataPreprocessor\n\u001b[1;32m      9\u001b[0m \u001b[38;5;28;01mfrom\u001b[39;00m \u001b[38;5;21;01mhelpers\u001b[39;00m\u001b[38;5;21;01m.\u001b[39;00m\u001b[38;5;21;01mvalidation\u001b[39;00m \u001b[38;5;28;01mimport\u001b[39;00m valid_predictions\n\u001b[1;32m     11\u001b[0m \u001b[38;5;66;03m# Данные\u001b[39;00m\n",
      "\u001b[0;31mModuleNotFoundError\u001b[0m: No module named 'helpers'"
     ]
    }
   ],
   "source": [
    "# Модель\n",
    "from xgboost import XGBClassifier\n",
    "from sklearn.model_selection import cross_val_score, StratifiedKFold\n",
    "\n",
    "\n",
    "# Пайплайн\n",
    "from sklearn.pipeline import Pipeline\n",
    "from helpers.data import DataPreprocessor\n",
    "from helpers.validation import valid_predictions\n",
    "\n",
    "# Данные\n",
    "import os\n",
    "import pandas as pd\n",
    "from sklearn.model_selection import train_test_split\n",
    "from imblearn.over_sampling import RandomOverSampler\n",
    "\n",
    "# Проверка GPU\n",
    "from catboost.utils import get_gpu_device_count\n",
    "TREE_METHOD = 'gpu_hist' if get_gpu_device_count() else 'auto'\n",
    "\n",
    "# Отображение\n",
    "import warnings\n",
    "warnings.filterwarnings('ignore')\n",
    "%matplotlib inline"
   ]
  },
  {
   "cell_type": "markdown",
   "metadata": {},
   "source": [
    "## Загрузка датасетов"
   ]
  },
  {
   "cell_type": "code",
   "execution_count": null,
   "metadata": {},
   "outputs": [],
   "source": [
    "# Пути\n",
    "ROOT = os.path.join(os.getcwd(), os.pardir)\n",
    "TRAIN_DATASET = os.path.join(ROOT, 'data', 'train_AIC.csv')\n",
    "BALANCED_DATASET = os.path.join(ROOT, 'data', 'balanced_train.csv')\n",
    "TEST_DATASET = os.path.join(ROOT, 'data', 'test_AIC.csv')\n",
    "SUBMISSION_PATH = os.path.join(ROOT, 'submissions')\n",
    "\n",
    "# Функции\n",
    "def make_predictions(model, X_test):\n",
    "    \"\"\" Создание сабмита для AI Challenge \"\"\"\n",
    "    # Загрузка сбалансированного датасета\n",
    "    balanced_df = pd.read_csv(BALANCED_DATASET, index_col=0)\n",
    "    \n",
    "    # Обрезка негативных записей до числа позитивных\n",
    "    first_negatives = balanced_df[balanced_df['y'] == 0][:balanced_df[balanced_df['y'] == 1]['y'].count()]\n",
    "    balanced_df = pd.concat([balanced_df[balanced_df['y'] == 1], first_negatives])\n",
    "\n",
    "    # Удаление выбросов\n",
    "    balanced_df = balanced_df[balanced_df['Длительность'] < 400]\n",
    "    balanced_df = balanced_df[(balanced_df['Сумма'] > 2) & (balanced_df['Сумма'] < 10)]\n",
    "    balanced_df = balanced_df[balanced_df['До поставки'] < 300]\n",
    "    balanced_df = balanced_df[balanced_df['Дней между 0_1'] < 400]\n",
    "    balanced_df = balanced_df[balanced_df['Количество изменений после согласований'] < 2000]\n",
    "    balanced_df = balanced_df[balanced_df['Количество'] < 300000]\n",
    "\n",
    "    X, y = balanced_df.iloc[:, :-1], balanced_df.iloc[:, -1]   \n",
    "    model.fit(X, y)\n",
    "    preds = model.predict(X_test)\n",
    "\n",
    "    save_submission(preds, 'submission')\n",
    "    \n",
    "def save_submission(preds, subname):\n",
    "    subname = os.path.join(SUBMISSION_PATH, f'{subname}.csv')\n",
    "    submit_df = pd.DataFrame({'id': test_df.index, 'value': preds})\n",
    "    submit_df.to_csv(subname, index=False)\n",
    "\n",
    "# Загрузка датасетов\n",
    "train_df = pd.read_csv(TRAIN_DATASET)\n",
    "test_df = pd.read_csv(TEST_DATASET)\n",
    "\n",
    "# Удаление дубликатов из тренировочной выборки\n",
    "train_df = train_df.drop_duplicates()\n",
    "\n",
    "# Разделение выборки на тренировочную и тестовую\n",
    "X, y = train_df.iloc[:, :-1], train_df.iloc[:, -1]   \n",
    "X_train, X_test, y_train, y_test = train_test_split(X, y, test_size=0.1, random_state=42)\n",
    "\n",
    "# Удаление выбросов из тренировочной выборки\n",
    "X_train = pd.concat([X_train, y_train], axis=1) # Объединяем X_train и y_train для удаления выбросов только из тренировочной выборки\n",
    "X_train = X_train[X_train['Длительность'] < 400]\n",
    "X_train = X_train[(X_train['Сумма'] > 2) & (X_train['Сумма'] < 10)]\n",
    "X_train = X_train[X_train['До поставки'] < 300]\n",
    "X_train = X_train[X_train['Дней между 0_1'] < 400]\n",
    "X_train = X_train[X_train['Количество изменений после согласований'] < 2000]\n",
    "X_train = X_train[X_train['Количество'] < 300000]\n",
    "\n",
    "# Отделяем метки классов от признаков\n",
    "y_train = X_train['y']\n",
    "X_train = X_train.drop('y', axis=1)\n",
    "\n",
    "# Общий датасет для большего числа записей на кросс-валидации\n",
    "X_general, y_general = train_df.iloc[:, :-1], train_df.iloc[:, -1]"
   ]
  },
  {
   "cell_type": "markdown",
   "metadata": {},
   "source": [
    "## Тестирование модели"
   ]
  },
  {
   "cell_type": "markdown",
   "metadata": {},
   "source": [
    "### Создание пайплайна"
   ]
  },
  {
   "cell_type": "markdown",
   "metadata": {},
   "source": [
    "- Кросс-валидация: используется X_general и y_general, не содержащие дубликатов.\n",
    "- Валидация на тестовой выборке (X_test, y_test): используется X_res и y_res, полученные с помощью рандомного оверсемплирования X_train и y_train.\n",
    "- Модель: XGBClassifier из библиотеки XGBoost\n",
    "- Параметры модели: подобраны с учётом результатов подбора гиперпараметров, а также ручных корректировок для повышения обобщающей способности.\n",
    "- Пайплайн:\n",
    "    - Предобработчик: кастомный предобработчик DataPreproccessor из модуля helper.data, совмещающий BinaryEncoder, RobustScaler, экстракцию признаков.\n",
    "    - Модель: XGBClassifier"
   ]
  },
  {
   "cell_type": "code",
   "execution_count": null,
   "metadata": {},
   "outputs": [],
   "source": [
    "# Создание оверсемпл-датасета (отбор рандомных записей)\n",
    "oversampler = RandomOverSampler(random_state=42)\n",
    "X_res, y_res = oversampler.fit_resample(X_train, y_train)\n",
    "\n",
    "# Параметры\n",
    "best_params = {\n",
    "    'learning_rate': 0.2, \n",
    "    'n_estimators': 2000, \n",
    "    'max_depth': 18,\n",
    "    'max_leaves': 220,\n",
    "    'reg_lambda': 0.2,\n",
    "    }\n",
    "\n",
    "# Модель\n",
    "data_preprocessor = DataPreprocessor()\n",
    "model = XGBClassifier(\n",
    "    **best_params,\n",
    "    n_jobs=-1,\n",
    "    tree_method='gpu_hist',\n",
    "    random_state=42,\n",
    ")\n",
    "\n",
    "# Пайплайн\n",
    "pipeline = Pipeline([('data_preproc', data_preprocessor),\n",
    "                     ('model', model)])"
   ]
  },
  {
   "cell_type": "code",
   "execution_count": null,
   "metadata": {},
   "outputs": [],
   "source": [
    "# Запуск кросс-валидации\n",
    "cv_scores = cross_val_score(pipeline, X_general, y_general, cv=StratifiedKFold(n_splits=5), scoring='f1_macro')\n",
    "print(f'Mean CV: {cv_scores.mean()}')"
   ]
  },
  {
   "cell_type": "code",
   "execution_count": null,
   "metadata": {},
   "outputs": [],
   "source": [
    "# Обучение модели и получение предсказаний для тестовой выборки\n",
    "pipeline.fit(X_res, y_res)\n",
    "preds = pipeline.predict(X_test)"
   ]
  },
  {
   "cell_type": "code",
   "execution_count": null,
   "metadata": {},
   "outputs": [],
   "source": [
    "# Вывод результатов валидации\n",
    "valid_predictions(y_test, preds, pipeline.classes_)"
   ]
  },
  {
   "cell_type": "markdown",
   "metadata": {},
   "source": [
    "## Получение предсказаний для AI Challenge"
   ]
  },
  {
   "cell_type": "code",
   "execution_count": null,
   "metadata": {},
   "outputs": [],
   "source": [
    "# Предсказание для тестовой выборки AI Challenge\n",
    "make_predictions(pipeline, test_df)"
   ]
  }
 ],
 "metadata": {
  "kernelspec": {
   "display_name": ".venv",
   "language": "python",
   "name": "python3"
  },
  "language_info": {
   "codemirror_mode": {
    "name": "ipython",
    "version": 3
   },
   "file_extension": ".py",
   "mimetype": "text/x-python",
   "name": "python",
   "nbconvert_exporter": "python",
   "pygments_lexer": "ipython3",
   "version": "3.11.10"
  },
  "orig_nbformat": 4
 },
 "nbformat": 4,
 "nbformat_minor": 2
}

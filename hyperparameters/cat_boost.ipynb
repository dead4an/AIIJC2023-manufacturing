{
 "cells": [
  {
   "cell_type": "code",
   "execution_count": 8,
   "metadata": {},
   "outputs": [],
   "source": [
    "# Тюнинг\n",
    "import optuna as opt\n",
    "from catboost import CatBoostClassifier\n",
    "from lightgbm import LGBMClassifier\n",
    "from sklearn.model_selection import cross_val_score, train_test_split, StratifiedKFold\n",
    "from sklearn.metrics import f1_score\n",
    "\n",
    "# Данные\n",
    "import os\n",
    "import pandas as pd"
   ]
  },
  {
   "cell_type": "code",
   "execution_count": 2,
   "metadata": {},
   "outputs": [],
   "source": [
    "# Пути\n",
    "ROOT = os.getcwd()\n",
    "TRAIN_DATASET = os.path.join(ROOT, '../data/train_AIC.csv')\n",
    "TEST_DATASET = os.path.join(ROOT, '../data/test_AIC.csv')\n",
    "\n",
    "# Загрузка\n",
    "train_df = pd.read_csv(TRAIN_DATASET)\n",
    "test_df = pd.read_csv(TEST_DATASET)\n",
    "\n",
    "X, y = train_df.iloc[:, :-1], train_df.iloc[:, -1]\n",
    "X_train, X_test, y_train, y_test = train_test_split(X, y, test_size=0.1, random_state=42)"
   ]
  },
  {
   "cell_type": "code",
   "execution_count": 6,
   "metadata": {},
   "outputs": [],
   "source": [
    "# Функция оптимизации\n",
    "def objective(trial: opt.Trial):\n",
    "    # Параметры\n",
    "    learning_rate = trial.suggest_float('learning_rate', 0.1, 0.7, log=True)\n",
    "    n_estimators = trial.suggest_int('n_estimators', 100, 700, 50)\n",
    "    max_depth = trial.suggest_int('max_depth', 4, 10)\n",
    "    max_bin = trial.suggest_int('max_bin', 32, 80)\n",
    "    l2_leaf_reg = trial.suggest_float('l2_reg', 0.1, 0.7, log=True)\n",
    "\n",
    "    # Модель\n",
    "    model = CatBoostClassifier(\n",
    "        learning_rate=learning_rate,\n",
    "        n_estimators=n_estimators,\n",
    "        max_depth=max_depth,\n",
    "        l2_leaf_reg=l2_leaf_reg,\n",
    "        cat_features=[\n",
    "            'Поставщик', 'Материал', 'Категорийный менеджер', 'Операционный менеджер',\n",
    "            'Завод', 'Закупочная организация', 'Группа закупок', 'Балансовая единица',\n",
    "            'ЕИ', 'Вариант поставки'\n",
    "            ]\n",
    "        )\n",
    "\n",
    "    cv_score = cross_val_score(model, X_train, y_train, cv=StratifiedKFold(), scoring='f1_macro', n_jobs=-1)\n",
    "    accuracy = cv_score.mean()\n",
    "    return accuracy"
   ]
  },
  {
   "cell_type": "code",
   "execution_count": 33,
   "metadata": {},
   "outputs": [],
   "source": [
    "X_train_lgbm, X_test_lgbm = X_train.copy(), X_test.copy()\n",
    "new_features = [num for num in range(0, 43)]\n",
    "X_train_lgbm.columns, X_test_lgbm.columns = new_features, new_features\n",
    "\n",
    "# Функция оптимизации\n",
    "def objective_lgbm(trial: opt.Trial):\n",
    "    # Параметры\n",
    "    learning_rate = trial.suggest_float('learning_rate', 0.1, 0.7, log=True)\n",
    "    n_estimators = trial.suggest_int('n_estimators', 300, 1200, 50)\n",
    "    max_depth = trial.suggest_int('max_depth', 6, 16)\n",
    "    max_bin = trial.suggest_int('max_bin', 64, 256),\n",
    "    num_leaves = trial.suggest_int('num_leaves', 64, 512)\n",
    "    reg_lambda = trial.suggest_float('l2_reg', 0.1, 0.7, log=True)\n",
    "\n",
    "    # Модель\n",
    "    model = LGBMClassifier(\n",
    "        learning_rate=learning_rate,\n",
    "        n_estimators=n_estimators,\n",
    "        max_depth=max_depth,\n",
    "        reg_lambda=reg_lambda,\n",
    "        max_bin=max_bin,\n",
    "        n_jobs=-1,\n",
    "        force_col_wise=True,\n",
    "        verbose=-1\n",
    "        )\n",
    "\n",
    "    model.fit(X_train_lgbm, y_train)\n",
    "    # cv_score = cross_val_score(model, X_train_lgbm, y_train, cv=StratifiedKFold(), scoring='f1_macro', n_jobs=-1)\n",
    "    # accuracy = cv_score.mean()\n",
    "\n",
    "    accuracy = f1_score(y_test, model.predict(X_test_lgbm), average='macro')\n",
    "    return accuracy"
   ]
  },
  {
   "cell_type": "code",
   "execution_count": 34,
   "metadata": {},
   "outputs": [
    {
     "name": "stderr",
     "output_type": "stream",
     "text": [
      "[I 2023-08-07 00:34:05,788] A new study created in memory with name: no-name-fce1b302-65bc-48c0-a18f-ffd3dd5ccc86\n",
      "[I 2023-08-07 00:34:12,772] Trial 0 finished with value: 0.8624893254525894 and parameters: {'learning_rate': 0.43972569737536354, 'n_estimators': 450, 'max_depth': 8, 'max_bin': 93, 'num_leaves': 319, 'l2_reg': 0.5010953630019842}. Best is trial 0 with value: 0.8624893254525894.\n",
      "[I 2023-08-07 00:34:28,936] Trial 1 finished with value: 0.8822087233648749 and parameters: {'learning_rate': 0.4115480364583243, 'n_estimators': 1100, 'max_depth': 9, 'max_bin': 203, 'num_leaves': 351, 'l2_reg': 0.6407752586348276}. Best is trial 1 with value: 0.8822087233648749.\n",
      "[I 2023-08-07 00:34:43,190] Trial 2 finished with value: 0.8804783415117436 and parameters: {'learning_rate': 0.45974561829606764, 'n_estimators': 850, 'max_depth': 11, 'max_bin': 185, 'num_leaves': 264, 'l2_reg': 0.22464374632665596}. Best is trial 1 with value: 0.8822087233648749.\n",
      "[I 2023-08-07 00:35:02,261] Trial 3 finished with value: 0.8833355150197164 and parameters: {'learning_rate': 0.48655354706831094, 'n_estimators': 1200, 'max_depth': 11, 'max_bin': 143, 'num_leaves': 389, 'l2_reg': 0.5342092700506332}. Best is trial 3 with value: 0.8833355150197164.\n",
      "[I 2023-08-07 00:35:21,761] Trial 4 finished with value: 0.8779332312336889 and parameters: {'learning_rate': 0.6601537806028157, 'n_estimators': 1200, 'max_depth': 16, 'max_bin': 78, 'num_leaves': 151, 'l2_reg': 0.5772660275113053}. Best is trial 3 with value: 0.8833355150197164.\n",
      "[I 2023-08-07 00:35:35,275] Trial 5 finished with value: 0.8811625748195822 and parameters: {'learning_rate': 0.355458887127543, 'n_estimators': 800, 'max_depth': 10, 'max_bin': 201, 'num_leaves': 262, 'l2_reg': 0.24001948702811327}. Best is trial 3 with value: 0.8833355150197164.\n",
      "[I 2023-08-07 00:35:52,284] Trial 6 finished with value: 0.8631936940340379 and parameters: {'learning_rate': 0.10967383939092319, 'n_estimators': 950, 'max_depth': 12, 'max_bin': 185, 'num_leaves': 506, 'l2_reg': 0.10179404722627033}. Best is trial 3 with value: 0.8833355150197164.\n",
      "[I 2023-08-07 00:36:10,294] Trial 7 finished with value: 0.8744698508748903 and parameters: {'learning_rate': 0.17613016613336055, 'n_estimators': 1050, 'max_depth': 8, 'max_bin': 213, 'num_leaves': 124, 'l2_reg': 0.45247361876640535}. Best is trial 3 with value: 0.8833355150197164.\n",
      "[I 2023-08-07 00:36:20,748] Trial 8 finished with value: 0.8594944472081176 and parameters: {'learning_rate': 0.17941442949517442, 'n_estimators': 550, 'max_depth': 8, 'max_bin': 240, 'num_leaves': 298, 'l2_reg': 0.27921172804725153}. Best is trial 3 with value: 0.8833355150197164.\n",
      "[I 2023-08-07 00:36:29,821] Trial 9 finished with value: 0.8732063007529666 and parameters: {'learning_rate': 0.5437628039246217, 'n_estimators': 500, 'max_depth': 11, 'max_bin': 235, 'num_leaves': 148, 'l2_reg': 0.5134223167492215}. Best is trial 3 with value: 0.8833355150197164.\n",
      "[I 2023-08-07 00:36:40,967] Trial 10 finished with value: 0.8750178850448809 and parameters: {'learning_rate': 0.6773648090357127, 'n_estimators': 650, 'max_depth': 14, 'max_bin': 134, 'num_leaves': 456, 'l2_reg': 0.3653002040904501}. Best is trial 3 with value: 0.8833355150197164.\n",
      "[I 2023-08-07 00:37:00,054] Trial 11 finished with value: 0.8835313700315482 and parameters: {'learning_rate': 0.332402462705128, 'n_estimators': 1200, 'max_depth': 13, 'max_bin': 145, 'num_leaves': 387, 'l2_reg': 0.6861048198830996}. Best is trial 11 with value: 0.8835313700315482.\n",
      "[I 2023-08-07 00:37:18,954] Trial 12 finished with value: 0.8813126759053866 and parameters: {'learning_rate': 0.2963244737925613, 'n_estimators': 1200, 'max_depth': 13, 'max_bin': 135, 'num_leaves': 409, 'l2_reg': 0.6450091154239251}. Best is trial 11 with value: 0.8835313700315482.\n",
      "[I 2023-08-07 00:37:36,397] Trial 13 finished with value: 0.8794453200861558 and parameters: {'learning_rate': 0.30583606803130947, 'n_estimators': 1000, 'max_depth': 6, 'max_bin': 143, 'num_leaves': 387, 'l2_reg': 0.6821621429314684}. Best is trial 11 with value: 0.8835313700315482.\n",
      "[I 2023-08-07 00:37:55,538] Trial 14 finished with value: 0.8788147166684198 and parameters: {'learning_rate': 0.22785338972449767, 'n_estimators': 1200, 'max_depth': 15, 'max_bin': 108, 'num_leaves': 429, 'l2_reg': 0.4065556357210386}. Best is trial 11 with value: 0.8835313700315482.\n",
      "[I 2023-08-07 00:38:01,567] Trial 15 finished with value: 0.8656657967017911 and parameters: {'learning_rate': 0.5078463794499143, 'n_estimators': 300, 'max_depth': 13, 'max_bin': 164, 'num_leaves': 512, 'l2_reg': 0.6987600610686211}. Best is trial 11 with value: 0.8835313700315482.\n",
      "[I 2023-08-07 00:38:16,275] Trial 16 finished with value: 0.8814381217088493 and parameters: {'learning_rate': 0.36105010436345564, 'n_estimators': 900, 'max_depth': 13, 'max_bin': 122, 'num_leaves': 228, 'l2_reg': 0.520052590320137}. Best is trial 11 with value: 0.8835313700315482.\n",
      "[I 2023-08-07 00:38:27,947] Trial 17 finished with value: 0.8789748266961872 and parameters: {'learning_rate': 0.5620280141377787, 'n_estimators': 700, 'max_depth': 10, 'max_bin': 159, 'num_leaves': 365, 'l2_reg': 0.35937611064872643}. Best is trial 11 with value: 0.8835313700315482.\n",
      "[I 2023-08-07 00:38:44,795] Trial 18 finished with value: 0.8829426032207524 and parameters: {'learning_rate': 0.37744935618530046, 'n_estimators': 1050, 'max_depth': 15, 'max_bin': 167, 'num_leaves': 200, 'l2_reg': 0.556531151799072}. Best is trial 11 with value: 0.8835313700315482.\n",
      "[I 2023-08-07 00:39:02,400] Trial 19 finished with value: 0.8741324026197455 and parameters: {'learning_rate': 0.24257704188475135, 'n_estimators': 1100, 'max_depth': 12, 'max_bin': 70, 'num_leaves': 459, 'l2_reg': 0.4238809502968727}. Best is trial 11 with value: 0.8835313700315482.\n",
      "[I 2023-08-07 00:39:17,756] Trial 20 finished with value: 0.8765781295663782 and parameters: {'learning_rate': 0.5064532323724931, 'n_estimators': 950, 'max_depth': 11, 'max_bin': 108, 'num_leaves': 333, 'l2_reg': 0.6051556299836983}. Best is trial 11 with value: 0.8835313700315482.\n",
      "[I 2023-08-07 00:39:35,283] Trial 21 finished with value: 0.8807717028560871 and parameters: {'learning_rate': 0.3792329484996323, 'n_estimators': 1100, 'max_depth': 16, 'max_bin': 159, 'num_leaves': 201, 'l2_reg': 0.5268377260931092}. Best is trial 11 with value: 0.8835313700315482.\n",
      "[I 2023-08-07 00:39:53,481] Trial 22 finished with value: 0.8852054147951494 and parameters: {'learning_rate': 0.3292751763526755, 'n_estimators': 1150, 'max_depth': 15, 'max_bin': 172, 'num_leaves': 84, 'l2_reg': 0.5658699451600238}. Best is trial 22 with value: 0.8852054147951494.\n",
      "[I 2023-08-07 00:40:12,588] Trial 23 finished with value: 0.8817020704813644 and parameters: {'learning_rate': 0.3153010226918258, 'n_estimators': 1200, 'max_depth': 14, 'max_bin': 181, 'num_leaves': 92, 'l2_reg': 0.6710497722416867}. Best is trial 22 with value: 0.8852054147951494.\n",
      "[I 2023-08-07 00:40:31,488] Trial 24 finished with value: 0.8839873283739343 and parameters: {'learning_rate': 0.2771820222612778, 'n_estimators': 1150, 'max_depth': 14, 'max_bin': 146, 'num_leaves': 385, 'l2_reg': 0.5647337998203146}. Best is trial 22 with value: 0.8852054147951494.\n",
      "[I 2023-08-07 00:40:49,596] Trial 25 finished with value: 0.8790537830099384 and parameters: {'learning_rate': 0.26981857434528783, 'n_estimators': 1100, 'max_depth': 15, 'max_bin': 120, 'num_leaves': 436, 'l2_reg': 0.44555171600370524}. Best is trial 22 with value: 0.8852054147951494.\n",
      "[I 2023-08-07 00:41:06,010] Trial 26 finished with value: 0.8785228608295426 and parameters: {'learning_rate': 0.2540334413400502, 'n_estimators': 1000, 'max_depth': 14, 'max_bin': 153, 'num_leaves': 303, 'l2_reg': 0.589742926735681}. Best is trial 22 with value: 0.8852054147951494.\n",
      "[I 2023-08-07 00:41:23,990] Trial 27 finished with value: 0.8863301396803684 and parameters: {'learning_rate': 0.3300267744789904, 'n_estimators': 1150, 'max_depth': 16, 'max_bin': 175, 'num_leaves': 364, 'l2_reg': 0.5972647266161618}. Best is trial 27 with value: 0.8863301396803684.\n",
      "[I 2023-08-07 00:41:37,581] Trial 28 finished with value: 0.8781236101665879 and parameters: {'learning_rate': 0.2837177288989793, 'n_estimators': 850, 'max_depth': 16, 'max_bin': 176, 'num_leaves': 271, 'l2_reg': 0.4675423375309019}. Best is trial 27 with value: 0.8863301396803684.\n",
      "[I 2023-08-07 00:41:49,804] Trial 29 finished with value: 0.8776810695621641 and parameters: {'learning_rate': 0.4446186648503145, 'n_estimators': 750, 'max_depth': 15, 'max_bin': 219, 'num_leaves': 324, 'l2_reg': 0.49233551252771124}. Best is trial 27 with value: 0.8863301396803684.\n",
      "[I 2023-08-07 00:41:57,792] Trial 30 finished with value: 0.8646618654057138 and parameters: {'learning_rate': 0.410534551268481, 'n_estimators': 400, 'max_depth': 16, 'max_bin': 193, 'num_leaves': 229, 'l2_reg': 0.3670981474287848}. Best is trial 27 with value: 0.8863301396803684.\n",
      "[I 2023-08-07 00:42:16,235] Trial 31 finished with value: 0.8846271045422283 and parameters: {'learning_rate': 0.3298694824128079, 'n_estimators': 1150, 'max_depth': 14, 'max_bin': 171, 'num_leaves': 365, 'l2_reg': 0.6025444365891016}. Best is trial 27 with value: 0.8863301396803684.\n",
      "[I 2023-08-07 00:42:34,091] Trial 32 finished with value: 0.8817435244663463 and parameters: {'learning_rate': 0.3123255714737669, 'n_estimators': 1150, 'max_depth': 14, 'max_bin': 176, 'num_leaves': 320, 'l2_reg': 0.6020188334870867}. Best is trial 27 with value: 0.8863301396803684.\n",
      "[I 2023-08-07 00:42:50,539] Trial 33 finished with value: 0.884429339293074 and parameters: {'learning_rate': 0.4087173452644545, 'n_estimators': 1050, 'max_depth': 15, 'max_bin': 170, 'num_leaves': 65, 'l2_reg': 0.5787155026513409}. Best is trial 27 with value: 0.8863301396803684.\n",
      "[I 2023-08-07 00:43:07,142] Trial 34 finished with value: 0.882901543617874 and parameters: {'learning_rate': 0.4138795231705076, 'n_estimators': 1050, 'max_depth': 15, 'max_bin': 200, 'num_leaves': 80, 'l2_reg': 0.61682088979156}. Best is trial 27 with value: 0.8863301396803684.\n",
      "[I 2023-08-07 00:43:24,536] Trial 35 finished with value: 0.8802377883041976 and parameters: {'learning_rate': 0.4245729375860546, 'n_estimators': 1000, 'max_depth': 16, 'max_bin': 221, 'num_leaves': 64, 'l2_reg': 0.495862377904912}. Best is trial 27 with value: 0.8863301396803684.\n",
      "[I 2023-08-07 00:43:43,306] Trial 36 finished with value: 0.8833021435544187 and parameters: {'learning_rate': 0.34667075956418664, 'n_estimators': 1150, 'max_depth': 15, 'max_bin': 255, 'num_leaves': 118, 'l2_reg': 0.5653137501397162}. Best is trial 27 with value: 0.8863301396803684.\n",
      "[I 2023-08-07 00:43:58,160] Trial 37 finished with value: 0.8822482005937098 and parameters: {'learning_rate': 0.39162830020425543, 'n_estimators': 900, 'max_depth': 16, 'max_bin': 191, 'num_leaves': 361, 'l2_reg': 0.6277266273909758}. Best is trial 27 with value: 0.8863301396803684.\n",
      "[I 2023-08-07 00:44:14,645] Trial 38 finished with value: 0.8846409452979914 and parameters: {'learning_rate': 0.4633427536875821, 'n_estimators': 1050, 'max_depth': 12, 'max_bin': 172, 'num_leaves': 105, 'l2_reg': 0.4663792960943284}. Best is trial 27 with value: 0.8863301396803684.\n",
      "[I 2023-08-07 00:44:32,268] Trial 39 finished with value: 0.884484654086769 and parameters: {'learning_rate': 0.45070366505796117, 'n_estimators': 1100, 'max_depth': 12, 'max_bin': 208, 'num_leaves': 166, 'l2_reg': 0.48067925093923425}. Best is trial 27 with value: 0.8863301396803684.\n",
      "[I 2023-08-07 00:44:50,264] Trial 40 finished with value: 0.8841144593877912 and parameters: {'learning_rate': 0.35535367387991224, 'n_estimators': 1150, 'max_depth': 12, 'max_bin': 183, 'num_leaves': 108, 'l2_reg': 0.5304278944497903}. Best is trial 27 with value: 0.8863301396803684.\n",
      "[I 2023-08-07 00:45:07,618] Trial 41 finished with value: 0.8838113592211954 and parameters: {'learning_rate': 0.45112883250789954, 'n_estimators': 1100, 'max_depth': 10, 'max_bin': 209, 'num_leaves': 152, 'l2_reg': 0.49238407843490495}. Best is trial 27 with value: 0.8863301396803684.\n",
      "[I 2023-08-07 00:45:25,552] Trial 42 finished with value: 0.8828495540370849 and parameters: {'learning_rate': 0.4758702087947248, 'n_estimators': 1150, 'max_depth': 12, 'max_bin': 170, 'num_leaves': 140, 'l2_reg': 0.41331389536438884}. Best is trial 27 with value: 0.8863301396803684.\n",
      "[I 2023-08-07 00:45:40,756] Trial 43 finished with value: 0.8784707253883027 and parameters: {'learning_rate': 0.5747472167791463, 'n_estimators': 950, 'max_depth': 11, 'max_bin': 193, 'num_leaves': 166, 'l2_reg': 0.4642626107901621}. Best is trial 27 with value: 0.8863301396803684.\n",
      "[I 2023-08-07 00:45:57,486] Trial 44 finished with value: 0.8828194992526531 and parameters: {'learning_rate': 0.3378345045763342, 'n_estimators': 1050, 'max_depth': 13, 'max_bin': 233, 'num_leaves': 101, 'l2_reg': 0.6433034447171011}. Best is trial 27 with value: 0.8863301396803684.\n",
      "[I 2023-08-07 00:46:13,487] Trial 45 finished with value: 0.8805691940465528 and parameters: {'learning_rate': 0.4608700439067727, 'n_estimators': 1000, 'max_depth': 9, 'max_bin': 204, 'num_leaves': 190, 'l2_reg': 0.5327220932173009}. Best is trial 27 with value: 0.8863301396803684.\n",
      "[I 2023-08-07 00:46:23,615] Trial 46 finished with value: 0.8722760639377973 and parameters: {'learning_rate': 0.3291529685726678, 'n_estimators': 600, 'max_depth': 12, 'max_bin': 153, 'num_leaves': 174, 'l2_reg': 0.46985421250234743}. Best is trial 27 with value: 0.8863301396803684.\n",
      "[I 2023-08-07 00:46:41,837] Trial 47 finished with value: 0.8816230022474651 and parameters: {'learning_rate': 0.3737646276335333, 'n_estimators': 1150, 'max_depth': 14, 'max_bin': 188, 'num_leaves': 131, 'l2_reg': 0.691238694169386}. Best is trial 27 with value: 0.8863301396803684.\n",
      "[I 2023-08-07 00:47:00,879] Trial 48 finished with value: 0.8780943003340861 and parameters: {'learning_rate': 0.6262157014911657, 'n_estimators': 1100, 'max_depth': 13, 'max_bin': 134, 'num_leaves': 344, 'l2_reg': 0.39363430165797797}. Best is trial 27 with value: 0.8863301396803684.\n",
      "[I 2023-08-07 00:47:20,203] Trial 49 finished with value: 0.8818992701979894 and parameters: {'learning_rate': 0.5001785147955154, 'n_estimators': 1200, 'max_depth': 7, 'max_bin': 199, 'num_leaves': 232, 'l2_reg': 0.6232369062243811}. Best is trial 27 with value: 0.8863301396803684.\n"
     ]
    }
   ],
   "source": [
    "study = opt.create_study(direction='maximize')\n",
    "study.optimize(objective_lgbm, n_trials=50)"
   ]
  },
  {
   "cell_type": "code",
   "execution_count": null,
   "metadata": {},
   "outputs": [],
   "source": [
    "# model = CatBoostClassifier(\n",
    "#         learning_rate=0.3,\n",
    "#         n_estimators=600,\n",
    "#         max_depth=8,\n",
    "#         l2_leaf_reg=0.2,\n",
    "#         cat_features=[\n",
    "#             'Поставщик', 'Материал', 'Категорийный менеджер', 'Операционный менеджер',\n",
    "#             'Завод', 'Закупочная организация', 'Группа закупок', 'Балансовая единица',\n",
    "#             'ЕИ', 'Вариант поставки'\n",
    "#             ],\n",
    "#         custom_metric=['Recall', 'F1']\n",
    "#         )\n",
    "\n",
    "# model.fit(X_train, y_train, plot=True)"
   ]
  },
  {
   "cell_type": "code",
   "execution_count": 47,
   "metadata": {},
   "outputs": [
    {
     "data": {
      "text/plain": [
       "0.7853279242731576"
      ]
     },
     "execution_count": 47,
     "metadata": {},
     "output_type": "execute_result"
    }
   ],
   "source": [
    "f1_score(y_test, model.predict(X_test))"
   ]
  },
  {
   "cell_type": "code",
   "execution_count": 46,
   "metadata": {},
   "outputs": [
    {
     "ename": "RuntimeError",
     "evalue": "Cannot clone object <catboost.core.CatBoostClassifier object at 0x0000022668E34650>, as the constructor either does not set or modifies parameter custom_metric",
     "output_type": "error",
     "traceback": [
      "\u001b[1;31m---------------------------------------------------------------------------\u001b[0m",
      "\u001b[1;31mEmpty\u001b[0m                                     Traceback (most recent call last)",
      "File \u001b[1;32mo:\\Programing\\predict-supply-disruption\\env\\Lib\\site-packages\\joblib\\parallel.py:1415\u001b[0m, in \u001b[0;36mParallel.dispatch_one_batch\u001b[1;34m(self, iterator)\u001b[0m\n\u001b[0;32m   1414\u001b[0m \u001b[39mtry\u001b[39;00m:\n\u001b[1;32m-> 1415\u001b[0m     tasks \u001b[39m=\u001b[39m \u001b[39mself\u001b[39;49m\u001b[39m.\u001b[39;49m_ready_batches\u001b[39m.\u001b[39;49mget(block\u001b[39m=\u001b[39;49m\u001b[39mFalse\u001b[39;49;00m)\n\u001b[0;32m   1416\u001b[0m \u001b[39mexcept\u001b[39;00m queue\u001b[39m.\u001b[39mEmpty:\n\u001b[0;32m   1417\u001b[0m     \u001b[39m# slice the iterator n_jobs * batchsize items at a time. If the\u001b[39;00m\n\u001b[0;32m   1418\u001b[0m     \u001b[39m# slice returns less than that, then the current batchsize puts\u001b[39;00m\n\u001b[1;32m   (...)\u001b[0m\n\u001b[0;32m   1421\u001b[0m     \u001b[39m# accordingly to distribute evenly the last items between all\u001b[39;00m\n\u001b[0;32m   1422\u001b[0m     \u001b[39m# workers.\u001b[39;00m\n",
      "File \u001b[1;32m~\\AppData\\Local\\Programs\\Python\\Python311\\Lib\\queue.py:168\u001b[0m, in \u001b[0;36mQueue.get\u001b[1;34m(self, block, timeout)\u001b[0m\n\u001b[0;32m    167\u001b[0m     \u001b[39mif\u001b[39;00m \u001b[39mnot\u001b[39;00m \u001b[39mself\u001b[39m\u001b[39m.\u001b[39m_qsize():\n\u001b[1;32m--> 168\u001b[0m         \u001b[39mraise\u001b[39;00m Empty\n\u001b[0;32m    169\u001b[0m \u001b[39melif\u001b[39;00m timeout \u001b[39mis\u001b[39;00m \u001b[39mNone\u001b[39;00m:\n",
      "\u001b[1;31mEmpty\u001b[0m: ",
      "\nDuring handling of the above exception, another exception occurred:\n",
      "\u001b[1;31mRuntimeError\u001b[0m                              Traceback (most recent call last)",
      "Cell \u001b[1;32mIn[46], line 1\u001b[0m\n\u001b[1;32m----> 1\u001b[0m cv_score \u001b[38;5;241m=\u001b[39m \u001b[43mcross_val_score\u001b[49m\u001b[43m(\u001b[49m\u001b[43mmodel\u001b[49m\u001b[43m,\u001b[49m\u001b[43m \u001b[49m\u001b[43mX_test\u001b[49m\u001b[43m,\u001b[49m\u001b[43m \u001b[49m\u001b[43my_test\u001b[49m\u001b[43m,\u001b[49m\u001b[43m \u001b[49m\u001b[43mcv\u001b[49m\u001b[38;5;241;43m=\u001b[39;49m\u001b[43mStratifiedKFold\u001b[49m\u001b[43m(\u001b[49m\u001b[43m)\u001b[49m\u001b[43m,\u001b[49m\u001b[43m \u001b[49m\u001b[43mn_jobs\u001b[49m\u001b[38;5;241;43m=\u001b[39;49m\u001b[38;5;241;43m-\u001b[39;49m\u001b[38;5;241;43m1\u001b[39;49m\u001b[43m)\u001b[49m\n",
      "File \u001b[1;32mo:\\Programing\\predict-supply-disruption\\env\\Lib\\site-packages\\sklearn\\model_selection\\_validation.py:562\u001b[0m, in \u001b[0;36mcross_val_score\u001b[1;34m(estimator, X, y, groups, scoring, cv, n_jobs, verbose, fit_params, pre_dispatch, error_score)\u001b[0m\n\u001b[0;32m    559\u001b[0m \u001b[39m# To ensure multimetric format is not supported\u001b[39;00m\n\u001b[0;32m    560\u001b[0m scorer \u001b[39m=\u001b[39m check_scoring(estimator, scoring\u001b[39m=\u001b[39mscoring)\n\u001b[1;32m--> 562\u001b[0m cv_results \u001b[39m=\u001b[39m cross_validate(\n\u001b[0;32m    563\u001b[0m     estimator\u001b[39m=\u001b[39;49mestimator,\n\u001b[0;32m    564\u001b[0m     X\u001b[39m=\u001b[39;49mX,\n\u001b[0;32m    565\u001b[0m     y\u001b[39m=\u001b[39;49my,\n\u001b[0;32m    566\u001b[0m     groups\u001b[39m=\u001b[39;49mgroups,\n\u001b[0;32m    567\u001b[0m     scoring\u001b[39m=\u001b[39;49m{\u001b[39m\"\u001b[39;49m\u001b[39mscore\u001b[39;49m\u001b[39m\"\u001b[39;49m: scorer},\n\u001b[0;32m    568\u001b[0m     cv\u001b[39m=\u001b[39;49mcv,\n\u001b[0;32m    569\u001b[0m     n_jobs\u001b[39m=\u001b[39;49mn_jobs,\n\u001b[0;32m    570\u001b[0m     verbose\u001b[39m=\u001b[39;49mverbose,\n\u001b[0;32m    571\u001b[0m     fit_params\u001b[39m=\u001b[39;49mfit_params,\n\u001b[0;32m    572\u001b[0m     pre_dispatch\u001b[39m=\u001b[39;49mpre_dispatch,\n\u001b[0;32m    573\u001b[0m     error_score\u001b[39m=\u001b[39;49merror_score,\n\u001b[0;32m    574\u001b[0m )\n\u001b[0;32m    575\u001b[0m \u001b[39mreturn\u001b[39;00m cv_results[\u001b[39m\"\u001b[39m\u001b[39mtest_score\u001b[39m\u001b[39m\"\u001b[39m]\n",
      "File \u001b[1;32mo:\\Programing\\predict-supply-disruption\\env\\Lib\\site-packages\\sklearn\\utils\\_param_validation.py:211\u001b[0m, in \u001b[0;36mvalidate_params.<locals>.decorator.<locals>.wrapper\u001b[1;34m(*args, **kwargs)\u001b[0m\n\u001b[0;32m    205\u001b[0m \u001b[39mtry\u001b[39;00m:\n\u001b[0;32m    206\u001b[0m     \u001b[39mwith\u001b[39;00m config_context(\n\u001b[0;32m    207\u001b[0m         skip_parameter_validation\u001b[39m=\u001b[39m(\n\u001b[0;32m    208\u001b[0m             prefer_skip_nested_validation \u001b[39mor\u001b[39;00m global_skip_validation\n\u001b[0;32m    209\u001b[0m         )\n\u001b[0;32m    210\u001b[0m     ):\n\u001b[1;32m--> 211\u001b[0m         \u001b[39mreturn\u001b[39;00m func(\u001b[39m*\u001b[39;49margs, \u001b[39m*\u001b[39;49m\u001b[39m*\u001b[39;49mkwargs)\n\u001b[0;32m    212\u001b[0m \u001b[39mexcept\u001b[39;00m InvalidParameterError \u001b[39mas\u001b[39;00m e:\n\u001b[0;32m    213\u001b[0m     \u001b[39m# When the function is just a wrapper around an estimator, we allow\u001b[39;00m\n\u001b[0;32m    214\u001b[0m     \u001b[39m# the function to delegate validation to the estimator, but we replace\u001b[39;00m\n\u001b[0;32m    215\u001b[0m     \u001b[39m# the name of the estimator by the name of the function in the error\u001b[39;00m\n\u001b[0;32m    216\u001b[0m     \u001b[39m# message to avoid confusion.\u001b[39;00m\n\u001b[0;32m    217\u001b[0m     msg \u001b[39m=\u001b[39m re\u001b[39m.\u001b[39msub(\n\u001b[0;32m    218\u001b[0m         \u001b[39mr\u001b[39m\u001b[39m\"\u001b[39m\u001b[39mparameter of \u001b[39m\u001b[39m\\\u001b[39m\u001b[39mw+ must be\u001b[39m\u001b[39m\"\u001b[39m,\n\u001b[0;32m    219\u001b[0m         \u001b[39mf\u001b[39m\u001b[39m\"\u001b[39m\u001b[39mparameter of \u001b[39m\u001b[39m{\u001b[39;00mfunc\u001b[39m.\u001b[39m\u001b[39m__qualname__\u001b[39m\u001b[39m}\u001b[39;00m\u001b[39m must be\u001b[39m\u001b[39m\"\u001b[39m,\n\u001b[0;32m    220\u001b[0m         \u001b[39mstr\u001b[39m(e),\n\u001b[0;32m    221\u001b[0m     )\n",
      "File \u001b[1;32mo:\\Programing\\predict-supply-disruption\\env\\Lib\\site-packages\\sklearn\\model_selection\\_validation.py:309\u001b[0m, in \u001b[0;36mcross_validate\u001b[1;34m(estimator, X, y, groups, scoring, cv, n_jobs, verbose, fit_params, pre_dispatch, return_train_score, return_estimator, return_indices, error_score)\u001b[0m\n\u001b[0;32m    306\u001b[0m \u001b[39m# We clone the estimator to make sure that all the folds are\u001b[39;00m\n\u001b[0;32m    307\u001b[0m \u001b[39m# independent, and that it is pickle-able.\u001b[39;00m\n\u001b[0;32m    308\u001b[0m parallel \u001b[39m=\u001b[39m Parallel(n_jobs\u001b[39m=\u001b[39mn_jobs, verbose\u001b[39m=\u001b[39mverbose, pre_dispatch\u001b[39m=\u001b[39mpre_dispatch)\n\u001b[1;32m--> 309\u001b[0m results \u001b[39m=\u001b[39m parallel(\n\u001b[0;32m    310\u001b[0m     delayed(_fit_and_score)(\n\u001b[0;32m    311\u001b[0m         clone(estimator),\n\u001b[0;32m    312\u001b[0m         X,\n\u001b[0;32m    313\u001b[0m         y,\n\u001b[0;32m    314\u001b[0m         scorers,\n\u001b[0;32m    315\u001b[0m         train,\n\u001b[0;32m    316\u001b[0m         test,\n\u001b[0;32m    317\u001b[0m         verbose,\n\u001b[0;32m    318\u001b[0m         \u001b[39mNone\u001b[39;49;00m,\n\u001b[0;32m    319\u001b[0m         fit_params,\n\u001b[0;32m    320\u001b[0m         return_train_score\u001b[39m=\u001b[39;49mreturn_train_score,\n\u001b[0;32m    321\u001b[0m         return_times\u001b[39m=\u001b[39;49m\u001b[39mTrue\u001b[39;49;00m,\n\u001b[0;32m    322\u001b[0m         return_estimator\u001b[39m=\u001b[39;49mreturn_estimator,\n\u001b[0;32m    323\u001b[0m         error_score\u001b[39m=\u001b[39;49merror_score,\n\u001b[0;32m    324\u001b[0m     )\n\u001b[0;32m    325\u001b[0m     \u001b[39mfor\u001b[39;49;00m train, test \u001b[39min\u001b[39;49;00m indices\n\u001b[0;32m    326\u001b[0m )\n\u001b[0;32m    328\u001b[0m _warn_or_raise_about_fit_failures(results, error_score)\n\u001b[0;32m    330\u001b[0m \u001b[39m# For callable scoring, the return type is only know after calling. If the\u001b[39;00m\n\u001b[0;32m    331\u001b[0m \u001b[39m# return type is a dictionary, the error scores can now be inserted with\u001b[39;00m\n\u001b[0;32m    332\u001b[0m \u001b[39m# the correct key.\u001b[39;00m\n",
      "File \u001b[1;32mo:\\Programing\\predict-supply-disruption\\env\\Lib\\site-packages\\sklearn\\utils\\parallel.py:65\u001b[0m, in \u001b[0;36mParallel.__call__\u001b[1;34m(self, iterable)\u001b[0m\n\u001b[0;32m     60\u001b[0m config \u001b[39m=\u001b[39m get_config()\n\u001b[0;32m     61\u001b[0m iterable_with_config \u001b[39m=\u001b[39m (\n\u001b[0;32m     62\u001b[0m     (_with_config(delayed_func, config), args, kwargs)\n\u001b[0;32m     63\u001b[0m     \u001b[39mfor\u001b[39;00m delayed_func, args, kwargs \u001b[39min\u001b[39;00m iterable\n\u001b[0;32m     64\u001b[0m )\n\u001b[1;32m---> 65\u001b[0m \u001b[39mreturn\u001b[39;00m \u001b[39msuper\u001b[39;49m()\u001b[39m.\u001b[39;49m\u001b[39m__call__\u001b[39;49m(iterable_with_config)\n",
      "File \u001b[1;32mo:\\Programing\\predict-supply-disruption\\env\\Lib\\site-packages\\joblib\\parallel.py:1942\u001b[0m, in \u001b[0;36mParallel.__call__\u001b[1;34m(self, iterable)\u001b[0m\n\u001b[0;32m   1936\u001b[0m \u001b[39mself\u001b[39m\u001b[39m.\u001b[39m_call_ref \u001b[39m=\u001b[39m weakref\u001b[39m.\u001b[39mref(output)\n\u001b[0;32m   1938\u001b[0m \u001b[39m# The first item from the output is blank, but it makes the interpreter\u001b[39;00m\n\u001b[0;32m   1939\u001b[0m \u001b[39m# progress until it enters the Try/Except block of the generator and\u001b[39;00m\n\u001b[0;32m   1940\u001b[0m \u001b[39m# reach the first `yield` statement. This starts the aynchronous\u001b[39;00m\n\u001b[0;32m   1941\u001b[0m \u001b[39m# dispatch of the tasks to the workers.\u001b[39;00m\n\u001b[1;32m-> 1942\u001b[0m \u001b[39mnext\u001b[39m(output)\n\u001b[0;32m   1944\u001b[0m \u001b[39mreturn\u001b[39;00m output \u001b[39mif\u001b[39;00m \u001b[39mself\u001b[39m\u001b[39m.\u001b[39mreturn_generator \u001b[39melse\u001b[39;00m \u001b[39mlist\u001b[39m(output)\n",
      "File \u001b[1;32mo:\\Programing\\predict-supply-disruption\\env\\Lib\\site-packages\\joblib\\parallel.py:1580\u001b[0m, in \u001b[0;36mParallel._get_outputs\u001b[1;34m(self, iterator, pre_dispatch)\u001b[0m\n\u001b[0;32m   1578\u001b[0m detach_generator_exit \u001b[39m=\u001b[39m \u001b[39mFalse\u001b[39;00m\n\u001b[0;32m   1579\u001b[0m \u001b[39mtry\u001b[39;00m:\n\u001b[1;32m-> 1580\u001b[0m     \u001b[39mself\u001b[39;49m\u001b[39m.\u001b[39;49m_start(iterator, pre_dispatch)\n\u001b[0;32m   1581\u001b[0m     \u001b[39m# first yield returns None, for internal use only. This ensures\u001b[39;00m\n\u001b[0;32m   1582\u001b[0m     \u001b[39m# that we enter the try/except block and start dispatching the\u001b[39;00m\n\u001b[0;32m   1583\u001b[0m     \u001b[39m# tasks.\u001b[39;00m\n\u001b[0;32m   1584\u001b[0m     \u001b[39myield\u001b[39;00m\n",
      "File \u001b[1;32mo:\\Programing\\predict-supply-disruption\\env\\Lib\\site-packages\\joblib\\parallel.py:1563\u001b[0m, in \u001b[0;36mParallel._start\u001b[1;34m(self, iterator, pre_dispatch)\u001b[0m\n\u001b[0;32m   1554\u001b[0m \u001b[39mdef\u001b[39;00m \u001b[39m_start\u001b[39m(\u001b[39mself\u001b[39m, iterator, pre_dispatch):\n\u001b[0;32m   1555\u001b[0m     \u001b[39m# Only set self._iterating to True if at least a batch\u001b[39;00m\n\u001b[0;32m   1556\u001b[0m     \u001b[39m# was dispatched. In particular this covers the edge\u001b[39;00m\n\u001b[1;32m   (...)\u001b[0m\n\u001b[0;32m   1560\u001b[0m     \u001b[39m# was very quick and its callback already dispatched all the\u001b[39;00m\n\u001b[0;32m   1561\u001b[0m     \u001b[39m# remaining jobs.\u001b[39;00m\n\u001b[0;32m   1562\u001b[0m     \u001b[39mself\u001b[39m\u001b[39m.\u001b[39m_iterating \u001b[39m=\u001b[39m \u001b[39mFalse\u001b[39;00m\n\u001b[1;32m-> 1563\u001b[0m     \u001b[39mif\u001b[39;00m \u001b[39mself\u001b[39;49m\u001b[39m.\u001b[39;49mdispatch_one_batch(iterator):\n\u001b[0;32m   1564\u001b[0m         \u001b[39mself\u001b[39m\u001b[39m.\u001b[39m_iterating \u001b[39m=\u001b[39m \u001b[39mself\u001b[39m\u001b[39m.\u001b[39m_original_iterator \u001b[39mis\u001b[39;00m \u001b[39mnot\u001b[39;00m \u001b[39mNone\u001b[39;00m\n\u001b[0;32m   1566\u001b[0m     \u001b[39mwhile\u001b[39;00m \u001b[39mself\u001b[39m\u001b[39m.\u001b[39mdispatch_one_batch(iterator):\n",
      "File \u001b[1;32mo:\\Programing\\predict-supply-disruption\\env\\Lib\\site-packages\\joblib\\parallel.py:1426\u001b[0m, in \u001b[0;36mParallel.dispatch_one_batch\u001b[1;34m(self, iterator)\u001b[0m\n\u001b[0;32m   1423\u001b[0m n_jobs \u001b[39m=\u001b[39m \u001b[39mself\u001b[39m\u001b[39m.\u001b[39m_cached_effective_n_jobs\n\u001b[0;32m   1424\u001b[0m big_batch_size \u001b[39m=\u001b[39m batch_size \u001b[39m*\u001b[39m n_jobs\n\u001b[1;32m-> 1426\u001b[0m islice \u001b[39m=\u001b[39m \u001b[39mlist\u001b[39m(itertools\u001b[39m.\u001b[39mislice(iterator, big_batch_size))\n\u001b[0;32m   1427\u001b[0m \u001b[39mif\u001b[39;00m \u001b[39mlen\u001b[39m(islice) \u001b[39m==\u001b[39m \u001b[39m0\u001b[39m:\n\u001b[0;32m   1428\u001b[0m     \u001b[39mreturn\u001b[39;00m \u001b[39mFalse\u001b[39;00m\n",
      "File \u001b[1;32mo:\\Programing\\predict-supply-disruption\\env\\Lib\\site-packages\\sklearn\\utils\\parallel.py:61\u001b[0m, in \u001b[0;36m<genexpr>\u001b[1;34m(.0)\u001b[0m\n\u001b[0;32m     56\u001b[0m \u001b[39m# Capture the thread-local scikit-learn configuration at the time\u001b[39;00m\n\u001b[0;32m     57\u001b[0m \u001b[39m# Parallel.__call__ is issued since the tasks can be dispatched\u001b[39;00m\n\u001b[0;32m     58\u001b[0m \u001b[39m# in a different thread depending on the backend and on the value of\u001b[39;00m\n\u001b[0;32m     59\u001b[0m \u001b[39m# pre_dispatch and n_jobs.\u001b[39;00m\n\u001b[0;32m     60\u001b[0m config \u001b[39m=\u001b[39m get_config()\n\u001b[1;32m---> 61\u001b[0m iterable_with_config \u001b[39m=\u001b[39m (\n\u001b[0;32m     62\u001b[0m     (_with_config(delayed_func, config), args, kwargs)\n\u001b[0;32m     63\u001b[0m     \u001b[39mfor\u001b[39;00m delayed_func, args, kwargs \u001b[39min\u001b[39;00m iterable\n\u001b[0;32m     64\u001b[0m )\n\u001b[0;32m     65\u001b[0m \u001b[39mreturn\u001b[39;00m \u001b[39msuper\u001b[39m()\u001b[39m.\u001b[39m\u001b[39m__call__\u001b[39m(iterable_with_config)\n",
      "File \u001b[1;32mo:\\Programing\\predict-supply-disruption\\env\\Lib\\site-packages\\sklearn\\model_selection\\_validation.py:311\u001b[0m, in \u001b[0;36m<genexpr>\u001b[1;34m(.0)\u001b[0m\n\u001b[0;32m    306\u001b[0m \u001b[39m# We clone the estimator to make sure that all the folds are\u001b[39;00m\n\u001b[0;32m    307\u001b[0m \u001b[39m# independent, and that it is pickle-able.\u001b[39;00m\n\u001b[0;32m    308\u001b[0m parallel \u001b[39m=\u001b[39m Parallel(n_jobs\u001b[39m=\u001b[39mn_jobs, verbose\u001b[39m=\u001b[39mverbose, pre_dispatch\u001b[39m=\u001b[39mpre_dispatch)\n\u001b[0;32m    309\u001b[0m results \u001b[39m=\u001b[39m parallel(\n\u001b[0;32m    310\u001b[0m     delayed(_fit_and_score)(\n\u001b[1;32m--> 311\u001b[0m         clone(estimator),\n\u001b[0;32m    312\u001b[0m         X,\n\u001b[0;32m    313\u001b[0m         y,\n\u001b[0;32m    314\u001b[0m         scorers,\n\u001b[0;32m    315\u001b[0m         train,\n\u001b[0;32m    316\u001b[0m         test,\n\u001b[0;32m    317\u001b[0m         verbose,\n\u001b[0;32m    318\u001b[0m         \u001b[39mNone\u001b[39;00m,\n\u001b[0;32m    319\u001b[0m         fit_params,\n\u001b[0;32m    320\u001b[0m         return_train_score\u001b[39m=\u001b[39mreturn_train_score,\n\u001b[0;32m    321\u001b[0m         return_times\u001b[39m=\u001b[39m\u001b[39mTrue\u001b[39;00m,\n\u001b[0;32m    322\u001b[0m         return_estimator\u001b[39m=\u001b[39mreturn_estimator,\n\u001b[0;32m    323\u001b[0m         error_score\u001b[39m=\u001b[39merror_score,\n\u001b[0;32m    324\u001b[0m     )\n\u001b[0;32m    325\u001b[0m     \u001b[39mfor\u001b[39;00m train, test \u001b[39min\u001b[39;00m indices\n\u001b[0;32m    326\u001b[0m )\n\u001b[0;32m    328\u001b[0m _warn_or_raise_about_fit_failures(results, error_score)\n\u001b[0;32m    330\u001b[0m \u001b[39m# For callable scoring, the return type is only know after calling. If the\u001b[39;00m\n\u001b[0;32m    331\u001b[0m \u001b[39m# return type is a dictionary, the error scores can now be inserted with\u001b[39;00m\n\u001b[0;32m    332\u001b[0m \u001b[39m# the correct key.\u001b[39;00m\n",
      "File \u001b[1;32mo:\\Programing\\predict-supply-disruption\\env\\Lib\\site-packages\\sklearn\\base.py:76\u001b[0m, in \u001b[0;36mclone\u001b[1;34m(estimator, safe)\u001b[0m\n\u001b[0;32m     74\u001b[0m \u001b[39mif\u001b[39;00m \u001b[39mhasattr\u001b[39m(estimator, \u001b[39m\"\u001b[39m\u001b[39m__sklearn_clone__\u001b[39m\u001b[39m\"\u001b[39m) \u001b[39mand\u001b[39;00m \u001b[39mnot\u001b[39;00m inspect\u001b[39m.\u001b[39misclass(estimator):\n\u001b[0;32m     75\u001b[0m     \u001b[39mreturn\u001b[39;00m estimator\u001b[39m.\u001b[39m__sklearn_clone__()\n\u001b[1;32m---> 76\u001b[0m \u001b[39mreturn\u001b[39;00m _clone_parametrized(estimator, safe\u001b[39m=\u001b[39;49msafe)\n",
      "File \u001b[1;32mo:\\Programing\\predict-supply-disruption\\env\\Lib\\site-packages\\sklearn\\base.py:122\u001b[0m, in \u001b[0;36m_clone_parametrized\u001b[1;34m(estimator, safe)\u001b[0m\n\u001b[0;32m    120\u001b[0m     param2 \u001b[39m=\u001b[39m params_set[name]\n\u001b[0;32m    121\u001b[0m     \u001b[39mif\u001b[39;00m param1 \u001b[39mis\u001b[39;00m \u001b[39mnot\u001b[39;00m param2:\n\u001b[1;32m--> 122\u001b[0m         \u001b[39mraise\u001b[39;00m \u001b[39mRuntimeError\u001b[39;00m(\n\u001b[0;32m    123\u001b[0m             \u001b[39m\"\u001b[39m\u001b[39mCannot clone object \u001b[39m\u001b[39m%s\u001b[39;00m\u001b[39m, as the constructor \u001b[39m\u001b[39m\"\u001b[39m\n\u001b[0;32m    124\u001b[0m             \u001b[39m\"\u001b[39m\u001b[39meither does not set or modifies parameter \u001b[39m\u001b[39m%s\u001b[39;00m\u001b[39m\"\u001b[39m \u001b[39m%\u001b[39m (estimator, name)\n\u001b[0;32m    125\u001b[0m         )\n\u001b[0;32m    127\u001b[0m \u001b[39m# _sklearn_output_config is used by `set_output` to configure the output\u001b[39;00m\n\u001b[0;32m    128\u001b[0m \u001b[39m# container of an estimator.\u001b[39;00m\n\u001b[0;32m    129\u001b[0m \u001b[39mif\u001b[39;00m \u001b[39mhasattr\u001b[39m(estimator, \u001b[39m\"\u001b[39m\u001b[39m_sklearn_output_config\u001b[39m\u001b[39m\"\u001b[39m):\n",
      "\u001b[1;31mRuntimeError\u001b[0m: Cannot clone object <catboost.core.CatBoostClassifier object at 0x0000022668E34650>, as the constructor either does not set or modifies parameter custom_metric"
     ]
    }
   ],
   "source": [
    "cv_score = cross_val_score(model, X_test, y_test, cv=StratifiedKFold(), n_jobs=-1)"
   ]
  }
 ],
 "metadata": {
  "kernelspec": {
   "display_name": "Python 3.11.4 ('env': venv)",
   "language": "python",
   "name": "python3"
  },
  "language_info": {
   "codemirror_mode": {
    "name": "ipython",
    "version": 3
   },
   "file_extension": ".py",
   "mimetype": "text/x-python",
   "name": "python",
   "nbconvert_exporter": "python",
   "pygments_lexer": "ipython3",
   "version": "3.11.4"
  },
  "orig_nbformat": 4,
  "vscode": {
   "interpreter": {
    "hash": "79663a0a9d8da7c7d65d8c29430beddf43ec80497536ce6768e4360a34723de0"
   }
  }
 },
 "nbformat": 4,
 "nbformat_minor": 2
}

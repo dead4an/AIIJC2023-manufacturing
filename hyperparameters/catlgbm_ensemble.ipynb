{
 "cells": [
  {
   "cell_type": "code",
   "execution_count": 1,
   "metadata": {},
   "outputs": [],
   "source": [
    "# Тюнинг\n",
    "import optuna as opt\n",
    "from lightgbm import LGBMClassifier\n",
    "from catboost import CatBoostClassifier\n",
    "from sklearn.ensemble import BaggingClassifier, StackingClassifier\n",
    "from sklearn.model_selection import cross_val_score, train_test_split, StratifiedKFold\n",
    "from sklearn.metrics import f1_score\n",
    "from sklearn.feature_selection import RFE\n",
    "\n",
    "# Пайплайн\n",
    "from sklearn.pipeline import Pipeline\n",
    "from sklearn.base import TransformerMixin, BaseEstimator\n",
    "\n",
    "# Данные\n",
    "import os\n",
    "import pandas as pd\n",
    "import numpy as np\n",
    "from category_encoders import BinaryEncoder, OneHotEncoder\n",
    "from sklearn.preprocessing import RobustScaler"
   ]
  },
  {
   "cell_type": "code",
   "execution_count": 3,
   "metadata": {},
   "outputs": [
    {
     "ename": "NameError",
     "evalue": "name 'pd' is not defined",
     "output_type": "error",
     "traceback": [
      "\u001b[1;31m---------------------------------------------------------------------------\u001b[0m",
      "\u001b[1;31mNameError\u001b[0m                                 Traceback (most recent call last)",
      "Cell \u001b[1;32mIn[3], line 9\u001b[0m\n\u001b[0;32m      6\u001b[0m SUBMISSION_PATH \u001b[38;5;241m=\u001b[39m os\u001b[38;5;241m.\u001b[39mpath\u001b[38;5;241m.\u001b[39mjoin(ROOT, \u001b[38;5;124m'\u001b[39m\u001b[38;5;124m../submissions\u001b[39m\u001b[38;5;124m'\u001b[39m)\n\u001b[0;32m      8\u001b[0m \u001b[38;5;66;03m# Загрузка\u001b[39;00m\n\u001b[1;32m----> 9\u001b[0m train_df \u001b[38;5;241m=\u001b[39m \u001b[43mpd\u001b[49m\u001b[38;5;241m.\u001b[39mread_csv(TRAIN_DATASET)\n\u001b[0;32m     10\u001b[0m \u001b[38;5;66;03m# balanced_df = pd.read_csv(BALANCED_DATASET, index_col=0)\u001b[39;00m\n\u001b[0;32m     11\u001b[0m test_df \u001b[38;5;241m=\u001b[39m pd\u001b[38;5;241m.\u001b[39mread_csv(TEST_DATASET)\n",
      "\u001b[1;31mNameError\u001b[0m: name 'pd' is not defined"
     ]
    }
   ],
   "source": [
    "# Пути\n",
    "ROOT = os.getcwd()\n",
    "TRAIN_DATASET = os.path.join(ROOT, '../data/train_AIC.csv')\n",
    "BALANCED_DATASET = os.path.join(ROOT, '../data/balanced_train.csv')\n",
    "TEST_DATASET = os.path.join(ROOT, '../data/test_AIC.csv')\n",
    "SUBMISSION_PATH = os.path.join(ROOT, '../submissions/')\n",
    "\n",
    "def save_submission(model, subname):\n",
    "    subname = os.path.join(SUBMISSION_PATH, f'{subname}.csv')\n",
    "    preds = model.predict(test_df)\n",
    "    submit_df = pd.DataFrame({'id': test_df.index, 'value': preds})\n",
    "    submit_df.to_csv(subname, index=False)\n",
    "\n",
    "# Загрузка\n",
    "train_df = pd.read_csv(TRAIN_DATASET)\n",
    "# balanced_df = pd.read_csv(BALANCED_DATASET, index_col=0)\n",
    "test_df = pd.read_csv(TEST_DATASET)\n",
    "\n",
    "# first_negatives = train_df[train_df['y'] == 0][:train_df[train_df['y'] == 1]['y'].count()]\n",
    "# train_df = pd.concat([train_df[train_df['y'] == 1], first_negatives])\n",
    "\n",
    "# def random_undersample(df):\n",
    "#     neg_count, pos_count = np.bincount(df['y'])\n",
    "#     pos_df = df[df['y'] == 1]\n",
    "#     neg_df = df[df['y'] == 0]\n",
    "#     neg_df = neg_df.sample(n=pos_count, random_state=1708)\n",
    "#     return pd.concat([pos_df, neg_df])\n",
    "\n",
    "# balanced_df = random_undersample(train_df)\n",
    "\n",
    "X, y = train_df.iloc[:, :-1], train_df.iloc[:, -1]\n",
    "X_train, X_test, y_train, y_test = train_test_split(X, y, test_size=0.2, random_state=42)\n",
    "\n",
    "FEATURES_TO_DROP = [\n",
    "    'Change on Paper', 'Amount', 'Category Manager', 'Factory', \n",
    "    'Material', 'Cansel Complete Release', 'Approval Cycles'\n",
    "    ]\n",
    "\n",
    "# FEATURES_TO_KEEP = ['Поставщик', 'Длительность', 'Закупочная организация', 'Балансовая единица',\n",
    "#                     'ЕИ', 'Сумма', 'Вариант поставки', 'НРП', 'Вариант поставки',\n",
    "#                     'Месяц1', 'Месяц2', 'Месяц3', 'День недели 2']\n",
    "# FEATURES_TO_DROP = X.columns[~X.columns.isin(FEATURES_TO_KEEP)]\n",
    "\n",
    "X_train = X_train.drop(FEATURES_TO_DROP, axis=1)\n",
    "X_test = X_test.drop(FEATURES_TO_DROP, axis=1)\n",
    "test_df = test_df.drop(FEATURES_TO_DROP, axis=1)"
   ]
  },
  {
   "cell_type": "code",
   "execution_count": 3,
   "metadata": {},
   "outputs": [],
   "source": [
    "# Препроцессоры\n",
    "class DataPreprocessor(BaseEstimator, TransformerMixin):\n",
    "    \"\"\" Предобработчик данных \"\"\"\n",
    "    def __init__(self, cat_features, transform_train=True):\n",
    "        self.transform_train = transform_train\n",
    "        self.cat_features = cat_features\n",
    "\n",
    "        self.bin_encoder = BinaryEncoder(cols=cat_features)\n",
    "        self.onehot_encoder = OneHotEncoder(cols=['Поставщик'])\n",
    "        self.robust_scaler = RobustScaler()\n",
    "        self.rename_cols = [\n",
    "            'Provider', 'Material', 'Category Manager', 'Operations Manager',\n",
    "            'Factory', 'Purchasing Organization', 'Purchasing Group', \n",
    "            'Company Code', 'EI', 'Material Group', 'Delivery Option', 'NRP',\n",
    "            'Duration', 'ETC Delivery', 'Month1', 'Month2', 'Month3', 'Weekday',\n",
    "            'Sum', 'Position Count', 'Amount', 'Handlers 7', 'Handlers 15', \n",
    "            'Handlers 30', 'Order Approval 1', 'Order Approval 2', 'Order Approval 3',\n",
    "            'Change Delivery Date 7', 'Change Delivery Date 15', 'Change Delivery Date 30',\n",
    "            'Cancel Complete Release', 'Change on Paper',\n",
    "            'Delivery Date', 'Approval Cycles', 'Changes After Approvals', \n",
    "            'Days Between 0_1', 'Days Between 1_2', 'Days Between 2_3',\n",
    "            'Days Between 3_4', 'Days Between 4_5', 'Days Between 5_6',\n",
    "            'Days Between 6_7', 'Days Between 7_8' \n",
    "            ]\n",
    "\n",
    "    def fit(self, X, y=None):\n",
    "        # Создаём копию датасета\n",
    "        X_ = X.copy()\n",
    "        X_.columns = self.rename_cols\n",
    "\n",
    "        # Временные фичи\n",
    "        X_['Weekday'] += 1\n",
    "        X_['day_sin'] = np.sin(np.pi * 2 * X_['Weekday'] / 7)\n",
    "        X_['day_cos'] = np.cos(np.pi * 2 * X_['Weekday'] / 7)\n",
    "        X_['month1_sin'] = np.sin(np.pi * 2 * X_['Month1'] / 12)\n",
    "        X_['month1_cos'] = np.cos(np.pi * 2 * X_['Month1'] / 12)\n",
    "        X_['month2_sin'] = np.sin(np.pi * 2 * X_['Month2'] / 12)\n",
    "        X_['month2_cos'] = np.cos(np.pi * 2 * X_['Month2'] / 12)\n",
    "        X_['month3_sin'] = np.sin(np.pi * 2 * X_['Month3'] / 12)\n",
    "        X_['month3_cos'] = np.cos(np.pi * 2 * X_['Month3'] / 12)\n",
    "\n",
    "        # Категориальные фичи\n",
    "        X_ = self.bin_encoder.fit_transform(X_)\n",
    "\n",
    "        features_to_drop = ('Weekday', 'Month1', 'Month2', 'Month3')\n",
    "        X_ = X_.drop(features_to_drop, axis=1)\n",
    "\n",
    "        # Масштабирование\n",
    "        # self.robust_scaler.fit(X_)\n",
    "\n",
    "        return self\n",
    "    \n",
    "    def transform(self, X):\n",
    "        # Создаём копию датасета\n",
    "        X_ = X.copy()\n",
    "        X_.columns = self.rename_cols\n",
    "\n",
    "        # Временные фичи\n",
    "        X_['day_sin'] = np.sin(np.pi * 2 * X_['Weekday'] / 7)\n",
    "        X_['day_cos'] = np.cos(np.pi * 2 * X_['Weekday'] / 7)\n",
    "        X_['month1_sin'] = np.sin(np.pi * 2 * X_['Month1'] / 12)\n",
    "        X_['month1_cos'] = np.cos(np.pi * 2 * X_['Month1'] / 12)\n",
    "        X_['month2_sin'] = np.sin(np.pi * 2 * X_['Month2'] / 12)\n",
    "        X_['month2_cos'] = np.cos(np.pi * 2 * X_['Month2'] / 12)\n",
    "        X_['month3_sin'] = np.sin(np.pi * 2 * X_['Month3'] / 12)\n",
    "        X_['month3_cos'] = np.cos(np.pi * 2 * X_['Month3'] / 12)\n",
    "\n",
    "        # Категориальные фичи\n",
    "        X_ = self.bin_encoder.transform(X_)\n",
    "\n",
    "        features_to_drop = ('Weekday', 'Month1', 'Month2', 'Month3')\n",
    "\n",
    "        X_ = X_.drop(features_to_drop, axis=1)\n",
    "\n",
    "        # Масштабирование\n",
    "        # X_ = self.robust_scaler.transform(X_)\n",
    "\n",
    "        return X_\n"
   ]
  },
  {
   "cell_type": "code",
   "execution_count": 4,
   "metadata": {},
   "outputs": [],
   "source": [
    "cat_features = [\n",
    "    'Закупочная организация', 'Поставщик',\n",
    "    'Балансовая единица', 'ЕИ', 'Вариант поставки'\n",
    "    ]"
   ]
  },
  {
   "cell_type": "code",
   "execution_count": 5,
   "metadata": {},
   "outputs": [],
   "source": [
    "lgbm_params = {\n",
    "    'learning_rate': 0.3, \n",
    "    'n_estimators': 1000, \n",
    "    'max_depth': 8, \n",
    "    'max_bin': 128, \n",
    "    'num_leaves': 128, \n",
    "    'reg_lambda': 0.2,\n",
    "    }\n",
    "\n",
    "# Модель\n",
    "data_preprocessor = DataPreprocessor(cat_features)\n",
    "\n",
    "estimators = []\n",
    "for index, params in enumerate(params_list):\n",
    "    estimator = LGBMClassifier(\n",
    "        **params,\n",
    "        n_jobs=-1,\n",
    "        force_col_wise=True,\n",
    "        is_unbalance=True\n",
    "    )\n",
    "    packed = (f'model_{index}', estimator)\n",
    "    estimators.append(packed)\n",
    "\n",
    "model = StackingClassifier(estimators=estimators, n_jobs=-1)\n",
    "\n",
    "pipeline = Pipeline([\n",
    "    ('data_preproc', data_preprocessor),\n",
    "    ('model', model)\n",
    "])"
   ]
  },
  {
   "cell_type": "code",
   "execution_count": 6,
   "metadata": {},
   "outputs": [
    {
     "data": {
      "text/plain": [
       "0.9070648717962695"
      ]
     },
     "execution_count": 6,
     "metadata": {},
     "output_type": "execute_result"
    }
   ],
   "source": [
    "pipeline.fit(X_train, y_train)\n",
    "f1_score(y_test, pipeline.predict(X_test), average='macro')"
   ]
  },
  {
   "cell_type": "code",
   "execution_count": null,
   "metadata": {},
   "outputs": [],
   "source": [
    "save_submission(pipeline, 'submission')"
   ]
  }
 ],
 "metadata": {
  "kernelspec": {
   "display_name": "Python 3.11.4 ('env': venv)",
   "language": "python",
   "name": "python3"
  },
  "language_info": {
   "codemirror_mode": {
    "name": "ipython",
    "version": 3
   },
   "file_extension": ".py",
   "mimetype": "text/x-python",
   "name": "python",
   "nbconvert_exporter": "python",
   "pygments_lexer": "ipython3",
   "version": "3.11.4"
  },
  "orig_nbformat": 4,
  "vscode": {
   "interpreter": {
    "hash": "79663a0a9d8da7c7d65d8c29430beddf43ec80497536ce6768e4360a34723de0"
   }
  }
 },
 "nbformat": 4,
 "nbformat_minor": 2
}

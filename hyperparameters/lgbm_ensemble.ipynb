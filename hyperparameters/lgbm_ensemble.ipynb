{
 "cells": [
  {
   "cell_type": "code",
   "execution_count": null,
   "metadata": {},
   "outputs": [],
   "source": [
    "# Тюнинг\n",
    "import optuna as opt\n",
    "from lightgbm import LGBMClassifier\n",
    "from sklearn.model_selection import cross_val_score, train_test_split, StratifiedKFold\n",
    "from sklearn.metrics import f1_score\n",
    "from sklearn.feature_selection import RFE\n",
    "\n",
    "# Пайплайн\n",
    "from sklearn.pipeline import Pipeline\n",
    "from sklearn.base import TransformerMixin, BaseEstimator\n",
    "\n",
    "# Данные\n",
    "import os\n",
    "import pandas as pd\n",
    "import numpy as np\n",
    "from category_encoders import BinaryEncoder, OneHotEncoder\n",
    "from sklearn.preprocessing import RobustScaler"
   ]
  },
  {
   "cell_type": "code",
   "execution_count": null,
   "metadata": {},
   "outputs": [],
   "source": [
    "# Пути\n",
    "ROOT = os.getcwd()\n",
    "TRAIN_DATASET = os.path.join(ROOT, '../data/train_AIC.csv')\n",
    "BALANCED_DATASET = os.path.join(ROOT, '../data/balanced_train.csv')\n",
    "TEST_DATASET = os.path.join(ROOT, '../data/test_AIC.csv')\n",
    "\n",
    "# Загрузка\n",
    "train_df = pd.read_csv(TRAIN_DATASET)\n",
    "balanced_df = pd.read_csv(BALANCED_DATASET, index_col=0)\n",
    "test_df = pd.read_csv(TEST_DATASET)\n",
    "\n",
    "# first_negatives = train_df[train_df['y'] == 0][:train_df[train_df['y'] == 1]['y'].count()]\n",
    "# train_df = pd.concat([train_df[train_df['y'] == 1], first_negatives])\n",
    "\n",
    "X, y = train_df.iloc[:, :-1], train_df.iloc[:, -1]\n",
    "X_train, X_test, y_train, y_test = train_test_split(X, y, test_size=0.1, random_state=42)\n",
    "\n",
    "FEATURES_TO_DROP = [\n",
    "    'Изменение позиции заказа на закупку: изменение даты поставки на бумаге',\n",
    "    'Количество', 'Категорийный менеджер', 'Завод', 'Материал',\n",
    "    'Отмена полного деблокирования заказа на закупку', 'Количество циклов согласования',\n",
    "    ]\n",
    "\n",
    "# FEATURES_TO_KEEP = ['Поставщик', 'Длительность', 'Закупочная организация', 'Балансовая единица',\n",
    "#                     'ЕИ', 'Сумма', 'Вариант поставки', 'НРП', 'Вариант поставки',\n",
    "#                     'Месяц1', 'Месяц2', 'Месяц3', 'День недели 2']\n",
    "# FEATURES_TO_DROP = X.columns[~X.columns.isin(FEATURES_TO_KEEP)]\n",
    "\n",
    "X_train = X_train.drop(FEATURES_TO_DROP, axis=1)\n",
    "X_test = X_test.drop(FEATURES_TO_DROP, axis=1)\n",
    "test_df = test_df.drop(FEATURES_TO_DROP, axis=1)"
   ]
  }
 ],
 "metadata": {
  "language_info": {
   "name": "python"
  },
  "orig_nbformat": 4
 },
 "nbformat": 4,
 "nbformat_minor": 2
}

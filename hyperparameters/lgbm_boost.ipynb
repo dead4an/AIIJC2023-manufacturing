{
 "cells": [
  {
   "cell_type": "code",
   "execution_count": 1,
   "metadata": {},
   "outputs": [],
   "source": [
    "# Тюнинг\n",
    "import optuna as opt\n",
    "from lightgbm import LGBMClassifier\n",
    "from sklearn.model_selection import cross_val_score, train_test_split, StratifiedKFold\n",
    "from sklearn.metrics import f1_score\n",
    "from sklearn.feature_selection import RFE\n",
    "\n",
    "# Пайплайн\n",
    "from sklearn.pipeline import Pipeline\n",
    "from sklearn.base import TransformerMixin, BaseEstimator\n",
    "\n",
    "# Данные\n",
    "import os\n",
    "import pandas as pd\n",
    "import numpy as np\n",
    "from category_encoders import BinaryEncoder, OneHotEncoder\n",
    "from sklearn.preprocessing import RobustScaler"
   ]
  },
  {
   "cell_type": "code",
   "execution_count": 2,
   "metadata": {},
   "outputs": [],
   "source": [
    "# Пути\n",
    "ROOT = os.getcwd()\n",
    "TRAIN_DATASET = os.path.join(ROOT, '../data/train_AIC.csv')\n",
    "BALANCED_DATASET = os.path.join(ROOT, '../data/balanced_train.csv')\n",
    "TEST_DATASET = os.path.join(ROOT, '../data/test_AIC.csv')\n",
    "\n",
    "# Загрузка\n",
    "train_df = pd.read_csv(TRAIN_DATASET)\n",
    "balanced_df = pd.read_csv(BALANCED_DATASET, index_col=0)\n",
    "test_df = pd.read_csv(TEST_DATASET)\n",
    "\n",
    "# first_negatives = train_df[train_df['y'] == 0][:train_df[train_df['y'] == 1]['y'].count()]\n",
    "# train_df = pd.concat([train_df[train_df['y'] == 1], first_negatives])\n",
    "\n",
    "# def random_undersample(df):\n",
    "#     neg_count, pos_count = np.bincount(df['y'])\n",
    "#     pos_df = df[df['y'] == 1]\n",
    "#     neg_df = df[df['y'] == 0]\n",
    "#     neg_df = neg_df.sample(n=pos_count, random_state=1708)\n",
    "#     return pd.concat([pos_df, neg_df])\n",
    "\n",
    "# balanced_df = random_undersample(train_df)\n",
    "\n",
    "X, y = balanced_df.iloc[:, :-1], balanced_df.iloc[:, -1]\n",
    "X_train, X_test, y_train, y_test = train_test_split(X, y, test_size=0.1, random_state=42)\n",
    "\n",
    "FEATURES_TO_DROP = [\n",
    "    'Изменение позиции заказа на закупку: изменение даты поставки на бумаге',\n",
    "    'Количество', 'Категорийный менеджер', 'Завод', 'Материал',\n",
    "    'Отмена полного деблокирования заказа на закупку', 'Количество циклов согласования'\n",
    "    ]\n",
    "\n",
    "# FEATURES_TO_KEEP = ['Поставщик', 'Длительность', 'Закупочная организация', 'Балансовая единица',\n",
    "#                     'ЕИ', 'Сумма', 'Вариант поставки', 'НРП', 'Вариант поставки',\n",
    "#                     'Месяц1', 'Месяц2', 'Месяц3', 'День недели 2']\n",
    "# FEATURES_TO_DROP = X.columns[~X.columns.isin(FEATURES_TO_KEEP)]\n",
    "\n",
    "X_train = X_train.drop(FEATURES_TO_DROP, axis=1)\n",
    "X_test = X_test.drop(FEATURES_TO_DROP, axis=1)\n",
    "test_df = test_df.drop(FEATURES_TO_DROP, axis=1)"
   ]
  },
  {
   "cell_type": "code",
   "execution_count": 3,
   "metadata": {},
   "outputs": [],
   "source": [
    "cat_features = [\n",
    "    'Закупочная организация', 'Поставщик',\n",
    "    'Балансовая единица', 'ЕИ', 'Вариант поставки'\n",
    "    ]"
   ]
  },
  {
   "cell_type": "code",
   "execution_count": 4,
   "metadata": {},
   "outputs": [],
   "source": [
    "# Препроцессоры\n",
    "class DataPreprocessor(BaseEstimator, TransformerMixin):\n",
    "    \"\"\" Предобработчик данных \"\"\"\n",
    "    def __init__(self, cat_features, transform_train=True):\n",
    "        self.transform_train = transform_train\n",
    "        self.cat_features = cat_features\n",
    "\n",
    "        self.bin_encoder = BinaryEncoder(cols=cat_features)\n",
    "        self.onehot_encoder = OneHotEncoder(cols=['Поставщик'])\n",
    "        self.robust_scaler = RobustScaler()\n",
    "\n",
    "    def fit(self, X, y=None):\n",
    "        # Создаём копию датасета\n",
    "        X_ = X.copy()\n",
    "\n",
    "        # Временные фичи\n",
    "        X_['day_sin'] = np.sin(np.pi * 2 * X_['День недели 2'] / 6)\n",
    "        X_['day_cos'] = np.cos(np.pi * 2 * X_['День недели 2'] / 6)\n",
    "        X_['month1_sin'] = np.sin(np.pi * 2 * X_['Месяц1'] / 12)\n",
    "        X_['month1_cos'] = np.cos(np.pi * 2 * X_['Месяц1'] / 12)\n",
    "        X_['month2_sin'] = np.sin(np.pi * 2 * X_['Месяц2'] / 12)\n",
    "        X_['month2_cos'] = np.cos(np.pi * 2 * X_['Месяц2'] / 12)\n",
    "        X_['month3_sin'] = np.sin(np.pi * 2 * X_['Месяц3'] / 12)\n",
    "        X_['month3_cos'] = np.cos(np.pi * 2 * X_['Месяц3'] / 12)\n",
    "\n",
    "        # Категориальные фичи\n",
    "        X_ = self.bin_encoder.fit_transform(X_)\n",
    "\n",
    "        features_to_drop = [\n",
    "            'День недели 2', 'Месяц1', 'Месяц2', 'Месяц3'\n",
    "            ]\n",
    "\n",
    "        X_ = X_.drop(features_to_drop, axis=1)\n",
    "\n",
    "        # Нумерация фич для LGBM (не принимает JSON символы)\n",
    "        X_.columns = [num for num in range(0, len(X_.columns))]\n",
    "\n",
    "        # Масштабирование\n",
    "        # self.robust_scaler.fit(X_)\n",
    "\n",
    "        return self\n",
    "    \n",
    "    def transform(self, X):\n",
    "        # Создаём копию датасета\n",
    "        X_ = X.copy()\n",
    "\n",
    "        # Временные фичи\n",
    "        X_['day_sin'] = np.sin(np.pi * 2 * X_['День недели 2'] / 6)\n",
    "        X_['day_cos'] = np.cos(np.pi * 2 * X_['День недели 2'] / 6)\n",
    "        X_['month1_sin'] = np.sin(np.pi * 2 * X_['Месяц1'] / 12)\n",
    "        X_['month1_cos'] = np.cos(np.pi * 2 * X_['Месяц1'] / 12)\n",
    "        X_['month2_sin'] = np.sin(np.pi * 2 * X_['Месяц2'] / 12)\n",
    "        X_['month2_cos'] = np.cos(np.pi * 2 * X_['Месяц2'] / 12)\n",
    "        X_['month3_sin'] = np.sin(np.pi * 2 * X_['Месяц3'] / 12)\n",
    "        X_['month3_cos'] = np.cos(np.pi * 2 * X_['Месяц3'] / 12)\n",
    "\n",
    "        # Категориальные фичи\n",
    "        X_ = self.bin_encoder.transform(X_)\n",
    "\n",
    "        features_to_drop = [\n",
    "            'День недели 2', 'Месяц1', 'Месяц2', 'Месяц3'\n",
    "            ]\n",
    "            \n",
    "        X_ = X_.drop(features_to_drop, axis=1)\n",
    "\n",
    "        # Нумерация фич для LGBM (не принимает JSON символы)\n",
    "        X_.columns = [num for num in range(0, len(X_.columns))]\n",
    "\n",
    "        # Масштабирование\n",
    "        # X_ = self.robust_scaler.transform(X_)\n",
    "\n",
    "        return X_\n"
   ]
  },
  {
   "cell_type": "code",
   "execution_count": null,
   "metadata": {},
   "outputs": [],
   "source": [
    "# data_preprocessor.fit(X_train)\n",
    "# X_train_preproc = data_preprocessor.transform(X_train)\n",
    "# X_test_preproc = data_preprocessor.transform(X_test)"
   ]
  },
  {
   "cell_type": "code",
   "execution_count": 5,
   "metadata": {},
   "outputs": [],
   "source": [
    "# Функция оптимизации\n",
    "def objective(trial: opt.Trial):\n",
    "    # Параметры\n",
    "    learning_rate = trial.suggest_float('learning_rate', 0.1, 1, log=True)\n",
    "    n_estimators = trial.suggest_int('n_estimators', 700, 1500, 50)\n",
    "    max_depth = trial.suggest_int('max_depth', 6, 16)\n",
    "    max_bin = trial.suggest_int('max_bin', 64, 352),\n",
    "    num_leaves = trial.suggest_int('num_leaves', 64, 256)\n",
    "    reg_lambda = trial.suggest_float('l2_reg', 0.1, 1, log=True)\n",
    "\n",
    "    # Модель\n",
    "    data_preprocessor = DataPreprocessor(cat_features)\n",
    "    model = LGBMClassifier(\n",
    "        learning_rate=learning_rate,\n",
    "        n_estimators=n_estimators,\n",
    "        max_depth=max_depth,\n",
    "        reg_lambda=reg_lambda,\n",
    "        max_bin=max_bin,\n",
    "        n_jobs=-1,\n",
    "        force_col_wise=True\n",
    "    )\n",
    "\n",
    "    rfe = RFE(estimator=model)\n",
    "\n",
    "    pipeline = Pipeline([\n",
    "        ('data_preproc', data_preprocessor),\n",
    "        ('model', model)\n",
    "    ])\n",
    "    \n",
    "    cv_score = cross_val_score(pipeline, X_train, y_train, cv=StratifiedKFold(n_splits=5), scoring='f1_macro', n_jobs=-1)\n",
    "    accuracy = cv_score.mean()\n",
    "\n",
    "    return accuracy"
   ]
  },
  {
   "cell_type": "code",
   "execution_count": null,
   "metadata": {},
   "outputs": [],
   "source": [
    "study = opt.create_study(direction='maximize')\n",
    "study.optimize(objective, n_trials=50)"
   ]
  },
  {
   "cell_type": "code",
   "execution_count": 47,
   "metadata": {},
   "outputs": [],
   "source": [
    "best_params = {\n",
    "    'learning_rate': 0.3, \n",
    "    'n_estimators': 1000, \n",
    "    'max_depth': 10, \n",
    "    'max_bin': 128, \n",
    "    'num_leaves': 128, \n",
    "    'reg_lambda': 0.2,\n",
    "    }\n",
    "\n",
    "# Модель\n",
    "data_preprocessor = DataPreprocessor(cat_features)\n",
    "model = LGBMClassifier(\n",
    "    **best_params,\n",
    "    n_jobs=-1,\n",
    "    force_col_wise=True,\n",
    "    # is_unbalance=True\n",
    ")\n",
    "\n",
    "pipeline = Pipeline([\n",
    "    ('data_preproc', data_preprocessor),\n",
    "    ('model', model)\n",
    "])"
   ]
  },
  {
   "cell_type": "code",
   "execution_count": 48,
   "metadata": {},
   "outputs": [
    {
     "name": "stdout",
     "output_type": "stream",
     "text": [
      "[LightGBM] [Info] Number of positive: 116489, number of negative: 173320\n",
      "[LightGBM] [Info] Total Bins 1412\n",
      "[LightGBM] [Info] Number of data points in the train set: 289809, number of used features: 64\n",
      "[LightGBM] [Info] [binary:BoostFromScore]: pavg=0.401951 -> initscore=-0.397343\n",
      "[LightGBM] [Info] Start training from score -0.397343\n",
      "[LightGBM] [Warning] No further splits with positive gain, best gain: -inf\n",
      "[LightGBM] [Warning] No further splits with positive gain, best gain: -inf\n",
      "[LightGBM] [Warning] No further splits with positive gain, best gain: -inf\n",
      "[LightGBM] [Warning] No further splits with positive gain, best gain: -inf\n",
      "[LightGBM] [Warning] No further splits with positive gain, best gain: -inf\n",
      "[LightGBM] [Warning] No further splits with positive gain, best gain: -inf\n"
     ]
    },
    {
     "data": {
      "text/plain": [
       "0.9835016910525334"
      ]
     },
     "execution_count": 48,
     "metadata": {},
     "output_type": "execute_result"
    }
   ],
   "source": [
    "pipeline.fit(X_train, y_train)\n",
    "f1_score(y_test, pipeline.predict(X_test), average='macro')"
   ]
  },
  {
   "cell_type": "code",
   "execution_count": 49,
   "metadata": {},
   "outputs": [],
   "source": [
    "preds = pipeline.predict(test_df)\n",
    "submit_df = pd.DataFrame({'id': test_df.index, 'value': preds})"
   ]
  },
  {
   "cell_type": "code",
   "execution_count": 50,
   "metadata": {},
   "outputs": [],
   "source": [
    "submit_df.to_csv('submission.csv', index=False)"
   ]
  },
  {
   "cell_type": "code",
   "execution_count": null,
   "metadata": {},
   "outputs": [],
   "source": [
    "# Модель\n",
    "X_ = X_train.copy()\n",
    "X_.columns = [num for num in range(0, len(X_train.columns))]\n",
    "\n",
    "model = LGBMClassifier(\n",
    "    **best_params,\n",
    "    n_jobs=-1,\n",
    "    force_col_wise=True,\n",
    ")\n",
    "\n",
    "model.fit(X_train, y_train)\n",
    "\n",
    "X_"
   ]
  },
  {
   "cell_type": "code",
   "execution_count": null,
   "metadata": {},
   "outputs": [],
   "source": [
    "pipeline['model'].feature_importances_"
   ]
  }
 ],
 "metadata": {
  "kernelspec": {
   "display_name": "Python 3.11.4 ('env': venv)",
   "language": "python",
   "name": "python3"
  },
  "language_info": {
   "codemirror_mode": {
    "name": "ipython",
    "version": 3
   },
   "file_extension": ".py",
   "mimetype": "text/x-python",
   "name": "python",
   "nbconvert_exporter": "python",
   "pygments_lexer": "ipython3",
   "version": "3.11.4"
  },
  "orig_nbformat": 4,
  "vscode": {
   "interpreter": {
    "hash": "79663a0a9d8da7c7d65d8c29430beddf43ec80497536ce6768e4360a34723de0"
   }
  }
 },
 "nbformat": 4,
 "nbformat_minor": 2
}
